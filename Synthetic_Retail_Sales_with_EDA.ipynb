{
  "nbformat": 4,
  "nbformat_minor": 0,
  "metadata": {
    "colab": {
      "provenance": [],
      "authorship_tag": "ABX9TyOBVdkKR7pEsnVxz0hoYdEC",
      "include_colab_link": true
    },
    "kernelspec": {
      "name": "python3",
      "display_name": "Python 3"
    },
    "language_info": {
      "name": "python"
    }
  },
  "cells": [
    {
      "cell_type": "markdown",
      "metadata": {
        "id": "view-in-github",
        "colab_type": "text"
      },
      "source": [
        "<a href=\"https://colab.research.google.com/github/aminadli/Synthetic-Retail-Sales/blob/main/Synthetic_Retail_Sales_with_EDA.ipynb\" target=\"_parent\"><img src=\"https://colab.research.google.com/assets/colab-badge.svg\" alt=\"Open In Colab\"/></a>"
      ]
    },
    {
      "cell_type": "code",
      "execution_count": 1,
      "metadata": {
        "id": "xu8Y4DIYvC04"
      },
      "outputs": [],
      "source": [
        "import numpy as np # linear algebra\n",
        "import pandas as pd # data processing, CSV file I/O (e.g. pd.read_csv)"
      ]
    },
    {
      "cell_type": "markdown",
      "source": [
        "# Initial Exploration"
      ],
      "metadata": {
        "id": "mlJBwViYt4cq"
      }
    },
    {
      "cell_type": "code",
      "source": [
        "df = pd.read_csv('https://raw.githubusercontent.com/aminadli/Synthetic-Retail-Sales/main/retail_sales_dataset.csv')"
      ],
      "metadata": {
        "id": "Bng8GyjZwDel"
      },
      "execution_count": 2,
      "outputs": []
    },
    {
      "cell_type": "code",
      "source": [
        "# frist five rows and last five rows\n",
        "pd.concat([df.head(), df.tail()])"
      ],
      "metadata": {
        "execution": {
          "iopub.status.busy": "2024-03-05T13:49:05.779542Z",
          "iopub.execute_input": "2024-03-05T13:49:05.779938Z",
          "iopub.status.idle": "2024-03-05T13:49:05.806757Z",
          "shell.execute_reply.started": "2024-03-05T13:49:05.779909Z",
          "shell.execute_reply": "2024-03-05T13:49:05.805317Z"
        },
        "trusted": true,
        "id": "UnmYFrC1t4cr",
        "colab": {
          "base_uri": "https://localhost:8080/",
          "height": 554
        },
        "outputId": "2e1dd444-dd0d-4f46-9d5b-6087fda03bf8"
      },
      "execution_count": 3,
      "outputs": [
        {
          "output_type": "execute_result",
          "data": {
            "text/plain": [
              "     Transaction ID        Date Customer ID  Gender  Age Product Category  \\\n",
              "0                 1  2023-11-24     CUST001    Male   34           Beauty   \n",
              "1                 2  2023-02-27     CUST002  Female   26         Clothing   \n",
              "2                 3  2023-01-13     CUST003    Male   50      Electronics   \n",
              "3                 4  2023-05-21     CUST004    Male   37         Clothing   \n",
              "4                 5  2023-05-06     CUST005    Male   30           Beauty   \n",
              "995             996  2023-05-16     CUST996    Male   62         Clothing   \n",
              "996             997  2023-11-17     CUST997    Male   52           Beauty   \n",
              "997             998  2023-10-29     CUST998  Female   23           Beauty   \n",
              "998             999  2023-12-05     CUST999  Female   36      Electronics   \n",
              "999            1000  2023-04-12    CUST1000    Male   47      Electronics   \n",
              "\n",
              "     Quantity  Price per Unit  Total Amount  \n",
              "0           3              50           150  \n",
              "1           2             500          1000  \n",
              "2           1              30            30  \n",
              "3           1             500           500  \n",
              "4           2              50           100  \n",
              "995         1              50            50  \n",
              "996         3              30            90  \n",
              "997         4              25           100  \n",
              "998         3              50           150  \n",
              "999         4              30           120  "
            ],
            "text/html": [
              "\n",
              "  <div id=\"df-a972fb22-3714-4f3c-94b2-493c2e7d1f3c\" class=\"colab-df-container\">\n",
              "    <div>\n",
              "<style scoped>\n",
              "    .dataframe tbody tr th:only-of-type {\n",
              "        vertical-align: middle;\n",
              "    }\n",
              "\n",
              "    .dataframe tbody tr th {\n",
              "        vertical-align: top;\n",
              "    }\n",
              "\n",
              "    .dataframe thead th {\n",
              "        text-align: right;\n",
              "    }\n",
              "</style>\n",
              "<table border=\"1\" class=\"dataframe\">\n",
              "  <thead>\n",
              "    <tr style=\"text-align: right;\">\n",
              "      <th></th>\n",
              "      <th>Transaction ID</th>\n",
              "      <th>Date</th>\n",
              "      <th>Customer ID</th>\n",
              "      <th>Gender</th>\n",
              "      <th>Age</th>\n",
              "      <th>Product Category</th>\n",
              "      <th>Quantity</th>\n",
              "      <th>Price per Unit</th>\n",
              "      <th>Total Amount</th>\n",
              "    </tr>\n",
              "  </thead>\n",
              "  <tbody>\n",
              "    <tr>\n",
              "      <th>0</th>\n",
              "      <td>1</td>\n",
              "      <td>2023-11-24</td>\n",
              "      <td>CUST001</td>\n",
              "      <td>Male</td>\n",
              "      <td>34</td>\n",
              "      <td>Beauty</td>\n",
              "      <td>3</td>\n",
              "      <td>50</td>\n",
              "      <td>150</td>\n",
              "    </tr>\n",
              "    <tr>\n",
              "      <th>1</th>\n",
              "      <td>2</td>\n",
              "      <td>2023-02-27</td>\n",
              "      <td>CUST002</td>\n",
              "      <td>Female</td>\n",
              "      <td>26</td>\n",
              "      <td>Clothing</td>\n",
              "      <td>2</td>\n",
              "      <td>500</td>\n",
              "      <td>1000</td>\n",
              "    </tr>\n",
              "    <tr>\n",
              "      <th>2</th>\n",
              "      <td>3</td>\n",
              "      <td>2023-01-13</td>\n",
              "      <td>CUST003</td>\n",
              "      <td>Male</td>\n",
              "      <td>50</td>\n",
              "      <td>Electronics</td>\n",
              "      <td>1</td>\n",
              "      <td>30</td>\n",
              "      <td>30</td>\n",
              "    </tr>\n",
              "    <tr>\n",
              "      <th>3</th>\n",
              "      <td>4</td>\n",
              "      <td>2023-05-21</td>\n",
              "      <td>CUST004</td>\n",
              "      <td>Male</td>\n",
              "      <td>37</td>\n",
              "      <td>Clothing</td>\n",
              "      <td>1</td>\n",
              "      <td>500</td>\n",
              "      <td>500</td>\n",
              "    </tr>\n",
              "    <tr>\n",
              "      <th>4</th>\n",
              "      <td>5</td>\n",
              "      <td>2023-05-06</td>\n",
              "      <td>CUST005</td>\n",
              "      <td>Male</td>\n",
              "      <td>30</td>\n",
              "      <td>Beauty</td>\n",
              "      <td>2</td>\n",
              "      <td>50</td>\n",
              "      <td>100</td>\n",
              "    </tr>\n",
              "    <tr>\n",
              "      <th>995</th>\n",
              "      <td>996</td>\n",
              "      <td>2023-05-16</td>\n",
              "      <td>CUST996</td>\n",
              "      <td>Male</td>\n",
              "      <td>62</td>\n",
              "      <td>Clothing</td>\n",
              "      <td>1</td>\n",
              "      <td>50</td>\n",
              "      <td>50</td>\n",
              "    </tr>\n",
              "    <tr>\n",
              "      <th>996</th>\n",
              "      <td>997</td>\n",
              "      <td>2023-11-17</td>\n",
              "      <td>CUST997</td>\n",
              "      <td>Male</td>\n",
              "      <td>52</td>\n",
              "      <td>Beauty</td>\n",
              "      <td>3</td>\n",
              "      <td>30</td>\n",
              "      <td>90</td>\n",
              "    </tr>\n",
              "    <tr>\n",
              "      <th>997</th>\n",
              "      <td>998</td>\n",
              "      <td>2023-10-29</td>\n",
              "      <td>CUST998</td>\n",
              "      <td>Female</td>\n",
              "      <td>23</td>\n",
              "      <td>Beauty</td>\n",
              "      <td>4</td>\n",
              "      <td>25</td>\n",
              "      <td>100</td>\n",
              "    </tr>\n",
              "    <tr>\n",
              "      <th>998</th>\n",
              "      <td>999</td>\n",
              "      <td>2023-12-05</td>\n",
              "      <td>CUST999</td>\n",
              "      <td>Female</td>\n",
              "      <td>36</td>\n",
              "      <td>Electronics</td>\n",
              "      <td>3</td>\n",
              "      <td>50</td>\n",
              "      <td>150</td>\n",
              "    </tr>\n",
              "    <tr>\n",
              "      <th>999</th>\n",
              "      <td>1000</td>\n",
              "      <td>2023-04-12</td>\n",
              "      <td>CUST1000</td>\n",
              "      <td>Male</td>\n",
              "      <td>47</td>\n",
              "      <td>Electronics</td>\n",
              "      <td>4</td>\n",
              "      <td>30</td>\n",
              "      <td>120</td>\n",
              "    </tr>\n",
              "  </tbody>\n",
              "</table>\n",
              "</div>\n",
              "    <div class=\"colab-df-buttons\">\n",
              "\n",
              "  <div class=\"colab-df-container\">\n",
              "    <button class=\"colab-df-convert\" onclick=\"convertToInteractive('df-a972fb22-3714-4f3c-94b2-493c2e7d1f3c')\"\n",
              "            title=\"Convert this dataframe to an interactive table.\"\n",
              "            style=\"display:none;\">\n",
              "\n",
              "  <svg xmlns=\"http://www.w3.org/2000/svg\" height=\"24px\" viewBox=\"0 -960 960 960\">\n",
              "    <path d=\"M120-120v-720h720v720H120Zm60-500h600v-160H180v160Zm220 220h160v-160H400v160Zm0 220h160v-160H400v160ZM180-400h160v-160H180v160Zm440 0h160v-160H620v160ZM180-180h160v-160H180v160Zm440 0h160v-160H620v160Z\"/>\n",
              "  </svg>\n",
              "    </button>\n",
              "\n",
              "  <style>\n",
              "    .colab-df-container {\n",
              "      display:flex;\n",
              "      gap: 12px;\n",
              "    }\n",
              "\n",
              "    .colab-df-convert {\n",
              "      background-color: #E8F0FE;\n",
              "      border: none;\n",
              "      border-radius: 50%;\n",
              "      cursor: pointer;\n",
              "      display: none;\n",
              "      fill: #1967D2;\n",
              "      height: 32px;\n",
              "      padding: 0 0 0 0;\n",
              "      width: 32px;\n",
              "    }\n",
              "\n",
              "    .colab-df-convert:hover {\n",
              "      background-color: #E2EBFA;\n",
              "      box-shadow: 0px 1px 2px rgba(60, 64, 67, 0.3), 0px 1px 3px 1px rgba(60, 64, 67, 0.15);\n",
              "      fill: #174EA6;\n",
              "    }\n",
              "\n",
              "    .colab-df-buttons div {\n",
              "      margin-bottom: 4px;\n",
              "    }\n",
              "\n",
              "    [theme=dark] .colab-df-convert {\n",
              "      background-color: #3B4455;\n",
              "      fill: #D2E3FC;\n",
              "    }\n",
              "\n",
              "    [theme=dark] .colab-df-convert:hover {\n",
              "      background-color: #434B5C;\n",
              "      box-shadow: 0px 1px 3px 1px rgba(0, 0, 0, 0.15);\n",
              "      filter: drop-shadow(0px 1px 2px rgba(0, 0, 0, 0.3));\n",
              "      fill: #FFFFFF;\n",
              "    }\n",
              "  </style>\n",
              "\n",
              "    <script>\n",
              "      const buttonEl =\n",
              "        document.querySelector('#df-a972fb22-3714-4f3c-94b2-493c2e7d1f3c button.colab-df-convert');\n",
              "      buttonEl.style.display =\n",
              "        google.colab.kernel.accessAllowed ? 'block' : 'none';\n",
              "\n",
              "      async function convertToInteractive(key) {\n",
              "        const element = document.querySelector('#df-a972fb22-3714-4f3c-94b2-493c2e7d1f3c');\n",
              "        const dataTable =\n",
              "          await google.colab.kernel.invokeFunction('convertToInteractive',\n",
              "                                                    [key], {});\n",
              "        if (!dataTable) return;\n",
              "\n",
              "        const docLinkHtml = 'Like what you see? Visit the ' +\n",
              "          '<a target=\"_blank\" href=https://colab.research.google.com/notebooks/data_table.ipynb>data table notebook</a>'\n",
              "          + ' to learn more about interactive tables.';\n",
              "        element.innerHTML = '';\n",
              "        dataTable['output_type'] = 'display_data';\n",
              "        await google.colab.output.renderOutput(dataTable, element);\n",
              "        const docLink = document.createElement('div');\n",
              "        docLink.innerHTML = docLinkHtml;\n",
              "        element.appendChild(docLink);\n",
              "      }\n",
              "    </script>\n",
              "  </div>\n",
              "\n",
              "\n",
              "<div id=\"df-ae8dbcbf-f82d-486d-9592-ae767f6814f5\">\n",
              "  <button class=\"colab-df-quickchart\" onclick=\"quickchart('df-ae8dbcbf-f82d-486d-9592-ae767f6814f5')\"\n",
              "            title=\"Suggest charts\"\n",
              "            style=\"display:none;\">\n",
              "\n",
              "<svg xmlns=\"http://www.w3.org/2000/svg\" height=\"24px\"viewBox=\"0 0 24 24\"\n",
              "     width=\"24px\">\n",
              "    <g>\n",
              "        <path d=\"M19 3H5c-1.1 0-2 .9-2 2v14c0 1.1.9 2 2 2h14c1.1 0 2-.9 2-2V5c0-1.1-.9-2-2-2zM9 17H7v-7h2v7zm4 0h-2V7h2v10zm4 0h-2v-4h2v4z\"/>\n",
              "    </g>\n",
              "</svg>\n",
              "  </button>\n",
              "\n",
              "<style>\n",
              "  .colab-df-quickchart {\n",
              "      --bg-color: #E8F0FE;\n",
              "      --fill-color: #1967D2;\n",
              "      --hover-bg-color: #E2EBFA;\n",
              "      --hover-fill-color: #174EA6;\n",
              "      --disabled-fill-color: #AAA;\n",
              "      --disabled-bg-color: #DDD;\n",
              "  }\n",
              "\n",
              "  [theme=dark] .colab-df-quickchart {\n",
              "      --bg-color: #3B4455;\n",
              "      --fill-color: #D2E3FC;\n",
              "      --hover-bg-color: #434B5C;\n",
              "      --hover-fill-color: #FFFFFF;\n",
              "      --disabled-bg-color: #3B4455;\n",
              "      --disabled-fill-color: #666;\n",
              "  }\n",
              "\n",
              "  .colab-df-quickchart {\n",
              "    background-color: var(--bg-color);\n",
              "    border: none;\n",
              "    border-radius: 50%;\n",
              "    cursor: pointer;\n",
              "    display: none;\n",
              "    fill: var(--fill-color);\n",
              "    height: 32px;\n",
              "    padding: 0;\n",
              "    width: 32px;\n",
              "  }\n",
              "\n",
              "  .colab-df-quickchart:hover {\n",
              "    background-color: var(--hover-bg-color);\n",
              "    box-shadow: 0 1px 2px rgba(60, 64, 67, 0.3), 0 1px 3px 1px rgba(60, 64, 67, 0.15);\n",
              "    fill: var(--button-hover-fill-color);\n",
              "  }\n",
              "\n",
              "  .colab-df-quickchart-complete:disabled,\n",
              "  .colab-df-quickchart-complete:disabled:hover {\n",
              "    background-color: var(--disabled-bg-color);\n",
              "    fill: var(--disabled-fill-color);\n",
              "    box-shadow: none;\n",
              "  }\n",
              "\n",
              "  .colab-df-spinner {\n",
              "    border: 2px solid var(--fill-color);\n",
              "    border-color: transparent;\n",
              "    border-bottom-color: var(--fill-color);\n",
              "    animation:\n",
              "      spin 1s steps(1) infinite;\n",
              "  }\n",
              "\n",
              "  @keyframes spin {\n",
              "    0% {\n",
              "      border-color: transparent;\n",
              "      border-bottom-color: var(--fill-color);\n",
              "      border-left-color: var(--fill-color);\n",
              "    }\n",
              "    20% {\n",
              "      border-color: transparent;\n",
              "      border-left-color: var(--fill-color);\n",
              "      border-top-color: var(--fill-color);\n",
              "    }\n",
              "    30% {\n",
              "      border-color: transparent;\n",
              "      border-left-color: var(--fill-color);\n",
              "      border-top-color: var(--fill-color);\n",
              "      border-right-color: var(--fill-color);\n",
              "    }\n",
              "    40% {\n",
              "      border-color: transparent;\n",
              "      border-right-color: var(--fill-color);\n",
              "      border-top-color: var(--fill-color);\n",
              "    }\n",
              "    60% {\n",
              "      border-color: transparent;\n",
              "      border-right-color: var(--fill-color);\n",
              "    }\n",
              "    80% {\n",
              "      border-color: transparent;\n",
              "      border-right-color: var(--fill-color);\n",
              "      border-bottom-color: var(--fill-color);\n",
              "    }\n",
              "    90% {\n",
              "      border-color: transparent;\n",
              "      border-bottom-color: var(--fill-color);\n",
              "    }\n",
              "  }\n",
              "</style>\n",
              "\n",
              "  <script>\n",
              "    async function quickchart(key) {\n",
              "      const quickchartButtonEl =\n",
              "        document.querySelector('#' + key + ' button');\n",
              "      quickchartButtonEl.disabled = true;  // To prevent multiple clicks.\n",
              "      quickchartButtonEl.classList.add('colab-df-spinner');\n",
              "      try {\n",
              "        const charts = await google.colab.kernel.invokeFunction(\n",
              "            'suggestCharts', [key], {});\n",
              "      } catch (error) {\n",
              "        console.error('Error during call to suggestCharts:', error);\n",
              "      }\n",
              "      quickchartButtonEl.classList.remove('colab-df-spinner');\n",
              "      quickchartButtonEl.classList.add('colab-df-quickchart-complete');\n",
              "    }\n",
              "    (() => {\n",
              "      let quickchartButtonEl =\n",
              "        document.querySelector('#df-ae8dbcbf-f82d-486d-9592-ae767f6814f5 button');\n",
              "      quickchartButtonEl.style.display =\n",
              "        google.colab.kernel.accessAllowed ? 'block' : 'none';\n",
              "    })();\n",
              "  </script>\n",
              "</div>\n",
              "\n",
              "    </div>\n",
              "  </div>\n"
            ],
            "application/vnd.google.colaboratory.intrinsic+json": {
              "type": "dataframe",
              "summary": "{\n  \"name\": \"pd\",\n  \"rows\": 10,\n  \"fields\": [\n    {\n      \"column\": \"Transaction ID\",\n      \"properties\": {\n        \"dtype\": \"number\",\n        \"std\": 524,\n        \"min\": 1,\n        \"max\": 1000,\n        \"num_unique_values\": 10,\n        \"samples\": [\n          999,\n          2,\n          996\n        ],\n        \"semantic_type\": \"\",\n        \"description\": \"\"\n      }\n    },\n    {\n      \"column\": \"Date\",\n      \"properties\": {\n        \"dtype\": \"object\",\n        \"num_unique_values\": 10,\n        \"samples\": [\n          \"2023-12-05\",\n          \"2023-02-27\",\n          \"2023-05-16\"\n        ],\n        \"semantic_type\": \"\",\n        \"description\": \"\"\n      }\n    },\n    {\n      \"column\": \"Customer ID\",\n      \"properties\": {\n        \"dtype\": \"string\",\n        \"num_unique_values\": 10,\n        \"samples\": [\n          \"CUST999\",\n          \"CUST002\",\n          \"CUST996\"\n        ],\n        \"semantic_type\": \"\",\n        \"description\": \"\"\n      }\n    },\n    {\n      \"column\": \"Gender\",\n      \"properties\": {\n        \"dtype\": \"category\",\n        \"num_unique_values\": 2,\n        \"samples\": [\n          \"Female\",\n          \"Male\"\n        ],\n        \"semantic_type\": \"\",\n        \"description\": \"\"\n      }\n    },\n    {\n      \"column\": \"Age\",\n      \"properties\": {\n        \"dtype\": \"number\",\n        \"std\": 12,\n        \"min\": 23,\n        \"max\": 62,\n        \"num_unique_values\": 10,\n        \"samples\": [\n          36,\n          26\n        ],\n        \"semantic_type\": \"\",\n        \"description\": \"\"\n      }\n    },\n    {\n      \"column\": \"Product Category\",\n      \"properties\": {\n        \"dtype\": \"category\",\n        \"num_unique_values\": 3,\n        \"samples\": [\n          \"Beauty\",\n          \"Clothing\"\n        ],\n        \"semantic_type\": \"\",\n        \"description\": \"\"\n      }\n    },\n    {\n      \"column\": \"Quantity\",\n      \"properties\": {\n        \"dtype\": \"number\",\n        \"std\": 1,\n        \"min\": 1,\n        \"max\": 4,\n        \"num_unique_values\": 4,\n        \"samples\": [\n          2,\n          4\n        ],\n        \"semantic_type\": \"\",\n        \"description\": \"\"\n      }\n    },\n    {\n      \"column\": \"Price per Unit\",\n      \"properties\": {\n        \"dtype\": \"number\",\n        \"std\": 194,\n        \"min\": 25,\n        \"max\": 500,\n        \"num_unique_values\": 4,\n        \"samples\": [\n          500,\n          25\n        ],\n        \"semantic_type\": \"\",\n        \"description\": \"\"\n      }\n    },\n    {\n      \"column\": \"Total Amount\",\n      \"properties\": {\n        \"dtype\": \"number\",\n        \"std\": 301,\n        \"min\": 30,\n        \"max\": 1000,\n        \"num_unique_values\": 8,\n        \"samples\": [\n          1000,\n          50\n        ],\n        \"semantic_type\": \"\",\n        \"description\": \"\"\n      }\n    }\n  ]\n}"
            }
          },
          "metadata": {},
          "execution_count": 3
        }
      ]
    },
    {
      "cell_type": "code",
      "source": [
        "# information about dataset\n",
        "df.info()"
      ],
      "metadata": {
        "execution": {
          "iopub.status.busy": "2024-03-05T13:49:05.808581Z",
          "iopub.execute_input": "2024-03-05T13:49:05.808909Z",
          "iopub.status.idle": "2024-03-05T13:49:05.83776Z",
          "shell.execute_reply.started": "2024-03-05T13:49:05.808881Z",
          "shell.execute_reply": "2024-03-05T13:49:05.836364Z"
        },
        "trusted": true,
        "id": "7z3OF-eIt4cs",
        "colab": {
          "base_uri": "https://localhost:8080/"
        },
        "outputId": "e3d0367a-5712-4413-b37e-db9f73fce47a"
      },
      "execution_count": 4,
      "outputs": [
        {
          "output_type": "stream",
          "name": "stdout",
          "text": [
            "<class 'pandas.core.frame.DataFrame'>\n",
            "RangeIndex: 1000 entries, 0 to 999\n",
            "Data columns (total 9 columns):\n",
            " #   Column            Non-Null Count  Dtype \n",
            "---  ------            --------------  ----- \n",
            " 0   Transaction ID    1000 non-null   int64 \n",
            " 1   Date              1000 non-null   object\n",
            " 2   Customer ID       1000 non-null   object\n",
            " 3   Gender            1000 non-null   object\n",
            " 4   Age               1000 non-null   int64 \n",
            " 5   Product Category  1000 non-null   object\n",
            " 6   Quantity          1000 non-null   int64 \n",
            " 7   Price per Unit    1000 non-null   int64 \n",
            " 8   Total Amount      1000 non-null   int64 \n",
            "dtypes: int64(5), object(4)\n",
            "memory usage: 70.4+ KB\n"
          ]
        }
      ]
    },
    {
      "cell_type": "code",
      "source": [
        "# column convert to lowercase format and space replace with (_)\n",
        "df.columns = df.columns.str.lower().str.replace(' ', '_')"
      ],
      "metadata": {
        "execution": {
          "iopub.status.busy": "2024-03-05T13:49:05.841156Z",
          "iopub.execute_input": "2024-03-05T13:49:05.841512Z",
          "iopub.status.idle": "2024-03-05T13:49:05.847925Z",
          "shell.execute_reply.started": "2024-03-05T13:49:05.841484Z",
          "shell.execute_reply": "2024-03-05T13:49:05.846681Z"
        },
        "trusted": true,
        "id": "CpS2u_oSt4cs"
      },
      "execution_count": 5,
      "outputs": []
    },
    {
      "cell_type": "code",
      "source": [
        "# summary statistics\n",
        "df.describe()"
      ],
      "metadata": {
        "execution": {
          "iopub.status.busy": "2024-03-05T13:49:05.849625Z",
          "iopub.execute_input": "2024-03-05T13:49:05.849992Z",
          "iopub.status.idle": "2024-03-05T13:49:05.891286Z",
          "shell.execute_reply.started": "2024-03-05T13:49:05.849961Z",
          "shell.execute_reply": "2024-03-05T13:49:05.889903Z"
        },
        "trusted": true,
        "id": "J4JtMdEGt4cs",
        "colab": {
          "base_uri": "https://localhost:8080/",
          "height": 300
        },
        "outputId": "115e9335-02d4-4615-ccba-cbaebf76b389"
      },
      "execution_count": 6,
      "outputs": [
        {
          "output_type": "execute_result",
          "data": {
            "text/plain": [
              "       transaction_id         age     quantity  price_per_unit  total_amount\n",
              "count     1000.000000  1000.00000  1000.000000     1000.000000   1000.000000\n",
              "mean       500.500000    41.39200     2.514000      179.890000    456.000000\n",
              "std        288.819436    13.68143     1.132734      189.681356    559.997632\n",
              "min          1.000000    18.00000     1.000000       25.000000     25.000000\n",
              "25%        250.750000    29.00000     1.000000       30.000000     60.000000\n",
              "50%        500.500000    42.00000     3.000000       50.000000    135.000000\n",
              "75%        750.250000    53.00000     4.000000      300.000000    900.000000\n",
              "max       1000.000000    64.00000     4.000000      500.000000   2000.000000"
            ],
            "text/html": [
              "\n",
              "  <div id=\"df-2b1c134b-946a-4798-a769-3173a0879e7d\" class=\"colab-df-container\">\n",
              "    <div>\n",
              "<style scoped>\n",
              "    .dataframe tbody tr th:only-of-type {\n",
              "        vertical-align: middle;\n",
              "    }\n",
              "\n",
              "    .dataframe tbody tr th {\n",
              "        vertical-align: top;\n",
              "    }\n",
              "\n",
              "    .dataframe thead th {\n",
              "        text-align: right;\n",
              "    }\n",
              "</style>\n",
              "<table border=\"1\" class=\"dataframe\">\n",
              "  <thead>\n",
              "    <tr style=\"text-align: right;\">\n",
              "      <th></th>\n",
              "      <th>transaction_id</th>\n",
              "      <th>age</th>\n",
              "      <th>quantity</th>\n",
              "      <th>price_per_unit</th>\n",
              "      <th>total_amount</th>\n",
              "    </tr>\n",
              "  </thead>\n",
              "  <tbody>\n",
              "    <tr>\n",
              "      <th>count</th>\n",
              "      <td>1000.000000</td>\n",
              "      <td>1000.00000</td>\n",
              "      <td>1000.000000</td>\n",
              "      <td>1000.000000</td>\n",
              "      <td>1000.000000</td>\n",
              "    </tr>\n",
              "    <tr>\n",
              "      <th>mean</th>\n",
              "      <td>500.500000</td>\n",
              "      <td>41.39200</td>\n",
              "      <td>2.514000</td>\n",
              "      <td>179.890000</td>\n",
              "      <td>456.000000</td>\n",
              "    </tr>\n",
              "    <tr>\n",
              "      <th>std</th>\n",
              "      <td>288.819436</td>\n",
              "      <td>13.68143</td>\n",
              "      <td>1.132734</td>\n",
              "      <td>189.681356</td>\n",
              "      <td>559.997632</td>\n",
              "    </tr>\n",
              "    <tr>\n",
              "      <th>min</th>\n",
              "      <td>1.000000</td>\n",
              "      <td>18.00000</td>\n",
              "      <td>1.000000</td>\n",
              "      <td>25.000000</td>\n",
              "      <td>25.000000</td>\n",
              "    </tr>\n",
              "    <tr>\n",
              "      <th>25%</th>\n",
              "      <td>250.750000</td>\n",
              "      <td>29.00000</td>\n",
              "      <td>1.000000</td>\n",
              "      <td>30.000000</td>\n",
              "      <td>60.000000</td>\n",
              "    </tr>\n",
              "    <tr>\n",
              "      <th>50%</th>\n",
              "      <td>500.500000</td>\n",
              "      <td>42.00000</td>\n",
              "      <td>3.000000</td>\n",
              "      <td>50.000000</td>\n",
              "      <td>135.000000</td>\n",
              "    </tr>\n",
              "    <tr>\n",
              "      <th>75%</th>\n",
              "      <td>750.250000</td>\n",
              "      <td>53.00000</td>\n",
              "      <td>4.000000</td>\n",
              "      <td>300.000000</td>\n",
              "      <td>900.000000</td>\n",
              "    </tr>\n",
              "    <tr>\n",
              "      <th>max</th>\n",
              "      <td>1000.000000</td>\n",
              "      <td>64.00000</td>\n",
              "      <td>4.000000</td>\n",
              "      <td>500.000000</td>\n",
              "      <td>2000.000000</td>\n",
              "    </tr>\n",
              "  </tbody>\n",
              "</table>\n",
              "</div>\n",
              "    <div class=\"colab-df-buttons\">\n",
              "\n",
              "  <div class=\"colab-df-container\">\n",
              "    <button class=\"colab-df-convert\" onclick=\"convertToInteractive('df-2b1c134b-946a-4798-a769-3173a0879e7d')\"\n",
              "            title=\"Convert this dataframe to an interactive table.\"\n",
              "            style=\"display:none;\">\n",
              "\n",
              "  <svg xmlns=\"http://www.w3.org/2000/svg\" height=\"24px\" viewBox=\"0 -960 960 960\">\n",
              "    <path d=\"M120-120v-720h720v720H120Zm60-500h600v-160H180v160Zm220 220h160v-160H400v160Zm0 220h160v-160H400v160ZM180-400h160v-160H180v160Zm440 0h160v-160H620v160ZM180-180h160v-160H180v160Zm440 0h160v-160H620v160Z\"/>\n",
              "  </svg>\n",
              "    </button>\n",
              "\n",
              "  <style>\n",
              "    .colab-df-container {\n",
              "      display:flex;\n",
              "      gap: 12px;\n",
              "    }\n",
              "\n",
              "    .colab-df-convert {\n",
              "      background-color: #E8F0FE;\n",
              "      border: none;\n",
              "      border-radius: 50%;\n",
              "      cursor: pointer;\n",
              "      display: none;\n",
              "      fill: #1967D2;\n",
              "      height: 32px;\n",
              "      padding: 0 0 0 0;\n",
              "      width: 32px;\n",
              "    }\n",
              "\n",
              "    .colab-df-convert:hover {\n",
              "      background-color: #E2EBFA;\n",
              "      box-shadow: 0px 1px 2px rgba(60, 64, 67, 0.3), 0px 1px 3px 1px rgba(60, 64, 67, 0.15);\n",
              "      fill: #174EA6;\n",
              "    }\n",
              "\n",
              "    .colab-df-buttons div {\n",
              "      margin-bottom: 4px;\n",
              "    }\n",
              "\n",
              "    [theme=dark] .colab-df-convert {\n",
              "      background-color: #3B4455;\n",
              "      fill: #D2E3FC;\n",
              "    }\n",
              "\n",
              "    [theme=dark] .colab-df-convert:hover {\n",
              "      background-color: #434B5C;\n",
              "      box-shadow: 0px 1px 3px 1px rgba(0, 0, 0, 0.15);\n",
              "      filter: drop-shadow(0px 1px 2px rgba(0, 0, 0, 0.3));\n",
              "      fill: #FFFFFF;\n",
              "    }\n",
              "  </style>\n",
              "\n",
              "    <script>\n",
              "      const buttonEl =\n",
              "        document.querySelector('#df-2b1c134b-946a-4798-a769-3173a0879e7d button.colab-df-convert');\n",
              "      buttonEl.style.display =\n",
              "        google.colab.kernel.accessAllowed ? 'block' : 'none';\n",
              "\n",
              "      async function convertToInteractive(key) {\n",
              "        const element = document.querySelector('#df-2b1c134b-946a-4798-a769-3173a0879e7d');\n",
              "        const dataTable =\n",
              "          await google.colab.kernel.invokeFunction('convertToInteractive',\n",
              "                                                    [key], {});\n",
              "        if (!dataTable) return;\n",
              "\n",
              "        const docLinkHtml = 'Like what you see? Visit the ' +\n",
              "          '<a target=\"_blank\" href=https://colab.research.google.com/notebooks/data_table.ipynb>data table notebook</a>'\n",
              "          + ' to learn more about interactive tables.';\n",
              "        element.innerHTML = '';\n",
              "        dataTable['output_type'] = 'display_data';\n",
              "        await google.colab.output.renderOutput(dataTable, element);\n",
              "        const docLink = document.createElement('div');\n",
              "        docLink.innerHTML = docLinkHtml;\n",
              "        element.appendChild(docLink);\n",
              "      }\n",
              "    </script>\n",
              "  </div>\n",
              "\n",
              "\n",
              "<div id=\"df-027bf5c9-d25b-4f31-b1c9-a8336727c7cc\">\n",
              "  <button class=\"colab-df-quickchart\" onclick=\"quickchart('df-027bf5c9-d25b-4f31-b1c9-a8336727c7cc')\"\n",
              "            title=\"Suggest charts\"\n",
              "            style=\"display:none;\">\n",
              "\n",
              "<svg xmlns=\"http://www.w3.org/2000/svg\" height=\"24px\"viewBox=\"0 0 24 24\"\n",
              "     width=\"24px\">\n",
              "    <g>\n",
              "        <path d=\"M19 3H5c-1.1 0-2 .9-2 2v14c0 1.1.9 2 2 2h14c1.1 0 2-.9 2-2V5c0-1.1-.9-2-2-2zM9 17H7v-7h2v7zm4 0h-2V7h2v10zm4 0h-2v-4h2v4z\"/>\n",
              "    </g>\n",
              "</svg>\n",
              "  </button>\n",
              "\n",
              "<style>\n",
              "  .colab-df-quickchart {\n",
              "      --bg-color: #E8F0FE;\n",
              "      --fill-color: #1967D2;\n",
              "      --hover-bg-color: #E2EBFA;\n",
              "      --hover-fill-color: #174EA6;\n",
              "      --disabled-fill-color: #AAA;\n",
              "      --disabled-bg-color: #DDD;\n",
              "  }\n",
              "\n",
              "  [theme=dark] .colab-df-quickchart {\n",
              "      --bg-color: #3B4455;\n",
              "      --fill-color: #D2E3FC;\n",
              "      --hover-bg-color: #434B5C;\n",
              "      --hover-fill-color: #FFFFFF;\n",
              "      --disabled-bg-color: #3B4455;\n",
              "      --disabled-fill-color: #666;\n",
              "  }\n",
              "\n",
              "  .colab-df-quickchart {\n",
              "    background-color: var(--bg-color);\n",
              "    border: none;\n",
              "    border-radius: 50%;\n",
              "    cursor: pointer;\n",
              "    display: none;\n",
              "    fill: var(--fill-color);\n",
              "    height: 32px;\n",
              "    padding: 0;\n",
              "    width: 32px;\n",
              "  }\n",
              "\n",
              "  .colab-df-quickchart:hover {\n",
              "    background-color: var(--hover-bg-color);\n",
              "    box-shadow: 0 1px 2px rgba(60, 64, 67, 0.3), 0 1px 3px 1px rgba(60, 64, 67, 0.15);\n",
              "    fill: var(--button-hover-fill-color);\n",
              "  }\n",
              "\n",
              "  .colab-df-quickchart-complete:disabled,\n",
              "  .colab-df-quickchart-complete:disabled:hover {\n",
              "    background-color: var(--disabled-bg-color);\n",
              "    fill: var(--disabled-fill-color);\n",
              "    box-shadow: none;\n",
              "  }\n",
              "\n",
              "  .colab-df-spinner {\n",
              "    border: 2px solid var(--fill-color);\n",
              "    border-color: transparent;\n",
              "    border-bottom-color: var(--fill-color);\n",
              "    animation:\n",
              "      spin 1s steps(1) infinite;\n",
              "  }\n",
              "\n",
              "  @keyframes spin {\n",
              "    0% {\n",
              "      border-color: transparent;\n",
              "      border-bottom-color: var(--fill-color);\n",
              "      border-left-color: var(--fill-color);\n",
              "    }\n",
              "    20% {\n",
              "      border-color: transparent;\n",
              "      border-left-color: var(--fill-color);\n",
              "      border-top-color: var(--fill-color);\n",
              "    }\n",
              "    30% {\n",
              "      border-color: transparent;\n",
              "      border-left-color: var(--fill-color);\n",
              "      border-top-color: var(--fill-color);\n",
              "      border-right-color: var(--fill-color);\n",
              "    }\n",
              "    40% {\n",
              "      border-color: transparent;\n",
              "      border-right-color: var(--fill-color);\n",
              "      border-top-color: var(--fill-color);\n",
              "    }\n",
              "    60% {\n",
              "      border-color: transparent;\n",
              "      border-right-color: var(--fill-color);\n",
              "    }\n",
              "    80% {\n",
              "      border-color: transparent;\n",
              "      border-right-color: var(--fill-color);\n",
              "      border-bottom-color: var(--fill-color);\n",
              "    }\n",
              "    90% {\n",
              "      border-color: transparent;\n",
              "      border-bottom-color: var(--fill-color);\n",
              "    }\n",
              "  }\n",
              "</style>\n",
              "\n",
              "  <script>\n",
              "    async function quickchart(key) {\n",
              "      const quickchartButtonEl =\n",
              "        document.querySelector('#' + key + ' button');\n",
              "      quickchartButtonEl.disabled = true;  // To prevent multiple clicks.\n",
              "      quickchartButtonEl.classList.add('colab-df-spinner');\n",
              "      try {\n",
              "        const charts = await google.colab.kernel.invokeFunction(\n",
              "            'suggestCharts', [key], {});\n",
              "      } catch (error) {\n",
              "        console.error('Error during call to suggestCharts:', error);\n",
              "      }\n",
              "      quickchartButtonEl.classList.remove('colab-df-spinner');\n",
              "      quickchartButtonEl.classList.add('colab-df-quickchart-complete');\n",
              "    }\n",
              "    (() => {\n",
              "      let quickchartButtonEl =\n",
              "        document.querySelector('#df-027bf5c9-d25b-4f31-b1c9-a8336727c7cc button');\n",
              "      quickchartButtonEl.style.display =\n",
              "        google.colab.kernel.accessAllowed ? 'block' : 'none';\n",
              "    })();\n",
              "  </script>\n",
              "</div>\n",
              "\n",
              "    </div>\n",
              "  </div>\n"
            ],
            "application/vnd.google.colaboratory.intrinsic+json": {
              "type": "dataframe",
              "summary": "{\n  \"name\": \"df\",\n  \"rows\": 8,\n  \"fields\": [\n    {\n      \"column\": \"transaction_id\",\n      \"properties\": {\n        \"dtype\": \"number\",\n        \"std\": 360.1000917722167,\n        \"min\": 1.0,\n        \"max\": 1000.0,\n        \"num_unique_values\": 6,\n        \"samples\": [\n          1000.0,\n          500.5,\n          750.25\n        ],\n        \"semantic_type\": \"\",\n        \"description\": \"\"\n      }\n    },\n    {\n      \"column\": \"age\",\n      \"properties\": {\n        \"dtype\": \"number\",\n        \"std\": 340.78610904107535,\n        \"min\": 13.681429659122527,\n        \"max\": 1000.0,\n        \"num_unique_values\": 8,\n        \"samples\": [\n          41.392,\n          42.0,\n          1000.0\n        ],\n        \"semantic_type\": \"\",\n        \"description\": \"\"\n      }\n    },\n    {\n      \"column\": \"quantity\",\n      \"properties\": {\n        \"dtype\": \"number\",\n        \"std\": 352.71483432640656,\n        \"min\": 1.0,\n        \"max\": 1000.0,\n        \"num_unique_values\": 6,\n        \"samples\": [\n          1000.0,\n          2.514,\n          4.0\n        ],\n        \"semantic_type\": \"\",\n        \"description\": \"\"\n      }\n    },\n    {\n      \"column\": \"price_per_unit\",\n      \"properties\": {\n        \"dtype\": \"number\",\n        \"std\": 330.7254087976672,\n        \"min\": 25.0,\n        \"max\": 1000.0,\n        \"num_unique_values\": 8,\n        \"samples\": [\n          179.89,\n          50.0,\n          1000.0\n        ],\n        \"semantic_type\": \"\",\n        \"description\": \"\"\n      }\n    },\n    {\n      \"column\": \"total_amount\",\n      \"properties\": {\n        \"dtype\": \"number\",\n        \"std\": 660.8084213867855,\n        \"min\": 25.0,\n        \"max\": 2000.0,\n        \"num_unique_values\": 8,\n        \"samples\": [\n          456.0,\n          135.0,\n          1000.0\n        ],\n        \"semantic_type\": \"\",\n        \"description\": \"\"\n      }\n    }\n  ]\n}"
            }
          },
          "metadata": {},
          "execution_count": 6
        }
      ]
    },
    {
      "cell_type": "code",
      "source": [
        "# duplicated rows\n",
        "df.duplicated().sum()"
      ],
      "metadata": {
        "execution": {
          "iopub.status.busy": "2024-03-05T13:49:05.892982Z",
          "iopub.execute_input": "2024-03-05T13:49:05.89333Z",
          "iopub.status.idle": "2024-03-05T13:49:05.904994Z",
          "shell.execute_reply.started": "2024-03-05T13:49:05.893301Z",
          "shell.execute_reply": "2024-03-05T13:49:05.90371Z"
        },
        "trusted": true,
        "id": "6pyD9q6St4cs",
        "colab": {
          "base_uri": "https://localhost:8080/"
        },
        "outputId": "3229ef15-b357-44a8-9879-ee20b1d0e461"
      },
      "execution_count": 7,
      "outputs": [
        {
          "output_type": "execute_result",
          "data": {
            "text/plain": [
              "0"
            ]
          },
          "metadata": {},
          "execution_count": 7
        }
      ]
    },
    {
      "cell_type": "markdown",
      "source": [
        "### In this dataframe, the date, gender, and product_category columns are incorrectly assigned data types; now, they need to be changed to the correct data types."
      ],
      "metadata": {
        "id": "jpC73mEut4cs"
      }
    },
    {
      "cell_type": "code",
      "source": [
        "# change date data type\n",
        "df['date'] = pd.to_datetime(df['date'])"
      ],
      "metadata": {
        "execution": {
          "iopub.status.busy": "2024-03-05T13:49:05.907015Z",
          "iopub.execute_input": "2024-03-05T13:49:05.90757Z",
          "iopub.status.idle": "2024-03-05T13:49:05.922034Z",
          "shell.execute_reply.started": "2024-03-05T13:49:05.907529Z",
          "shell.execute_reply": "2024-03-05T13:49:05.920331Z"
        },
        "trusted": true,
        "id": "ESlIV0P0t4ct"
      },
      "execution_count": 8,
      "outputs": []
    },
    {
      "cell_type": "code",
      "source": [
        "# change gender data type\n",
        "df['gender'] = df['gender'].astype('category')"
      ],
      "metadata": {
        "execution": {
          "iopub.status.busy": "2024-03-05T13:49:05.92448Z",
          "iopub.execute_input": "2024-03-05T13:49:05.924896Z",
          "iopub.status.idle": "2024-03-05T13:49:05.936877Z",
          "shell.execute_reply.started": "2024-03-05T13:49:05.924861Z",
          "shell.execute_reply": "2024-03-05T13:49:05.935416Z"
        },
        "trusted": true,
        "id": "TR-eVQ3Nt4ct"
      },
      "execution_count": 9,
      "outputs": []
    },
    {
      "cell_type": "code",
      "source": [
        "# change product_category data type\n",
        "df['product_category'] = df['product_category'].astype('category')"
      ],
      "metadata": {
        "execution": {
          "iopub.status.busy": "2024-03-05T13:49:05.938656Z",
          "iopub.execute_input": "2024-03-05T13:49:05.939091Z",
          "iopub.status.idle": "2024-03-05T13:49:05.949795Z",
          "shell.execute_reply.started": "2024-03-05T13:49:05.939055Z",
          "shell.execute_reply": "2024-03-05T13:49:05.948583Z"
        },
        "trusted": true,
        "id": "_15SHltot4ct"
      },
      "execution_count": 10,
      "outputs": []
    },
    {
      "cell_type": "code",
      "source": [
        "df.dtypes"
      ],
      "metadata": {
        "execution": {
          "iopub.status.busy": "2024-03-05T13:49:05.951699Z",
          "iopub.execute_input": "2024-03-05T13:49:05.952087Z",
          "iopub.status.idle": "2024-03-05T13:49:05.966019Z",
          "shell.execute_reply.started": "2024-03-05T13:49:05.952045Z",
          "shell.execute_reply": "2024-03-05T13:49:05.96487Z"
        },
        "trusted": true,
        "id": "FOT70HGtt4ct",
        "colab": {
          "base_uri": "https://localhost:8080/"
        },
        "outputId": "c270325b-8e1b-4ab1-d6ae-fd26fc5e0868"
      },
      "execution_count": 11,
      "outputs": [
        {
          "output_type": "execute_result",
          "data": {
            "text/plain": [
              "transaction_id               int64\n",
              "date                datetime64[ns]\n",
              "customer_id                 object\n",
              "gender                    category\n",
              "age                          int64\n",
              "product_category          category\n",
              "quantity                     int64\n",
              "price_per_unit               int64\n",
              "total_amount                 int64\n",
              "dtype: object"
            ]
          },
          "metadata": {},
          "execution_count": 11
        }
      ]
    },
    {
      "cell_type": "code",
      "source": [
        "# remove transaction_id which is not useful our analysis\n",
        "df.drop('transaction_id', axis=1, inplace=True)"
      ],
      "metadata": {
        "execution": {
          "iopub.status.busy": "2024-03-05T13:49:05.967963Z",
          "iopub.execute_input": "2024-03-05T13:49:05.969281Z",
          "iopub.status.idle": "2024-03-05T13:49:05.98198Z",
          "shell.execute_reply.started": "2024-03-05T13:49:05.96924Z",
          "shell.execute_reply": "2024-03-05T13:49:05.980645Z"
        },
        "trusted": true,
        "id": "U1vfekgit4ct"
      },
      "execution_count": 12,
      "outputs": []
    },
    {
      "cell_type": "code",
      "source": [
        "# copy dataframe\n",
        "tem_df = df.copy()"
      ],
      "metadata": {
        "execution": {
          "iopub.status.busy": "2024-03-05T13:49:05.983648Z",
          "iopub.execute_input": "2024-03-05T13:49:05.984794Z",
          "iopub.status.idle": "2024-03-05T13:49:05.991995Z",
          "shell.execute_reply.started": "2024-03-05T13:49:05.984762Z",
          "shell.execute_reply": "2024-03-05T13:49:05.990953Z"
        },
        "trusted": true,
        "id": "AEFqJYLKt4ct"
      },
      "execution_count": 13,
      "outputs": []
    },
    {
      "cell_type": "markdown",
      "source": [
        "# Univariate Analysis"
      ],
      "metadata": {
        "id": "woRAjDwst4cu"
      }
    },
    {
      "cell_type": "code",
      "source": [
        "# date\n",
        "tem_df['date'].describe()"
      ],
      "metadata": {
        "execution": {
          "iopub.status.busy": "2024-03-05T13:49:05.996385Z",
          "iopub.execute_input": "2024-03-05T13:49:05.997172Z",
          "iopub.status.idle": "2024-03-05T13:49:06.011588Z",
          "shell.execute_reply.started": "2024-03-05T13:49:05.997141Z",
          "shell.execute_reply": "2024-03-05T13:49:06.01022Z"
        },
        "trusted": true,
        "id": "l7NCZ4-Xt4cu",
        "colab": {
          "base_uri": "https://localhost:8080/"
        },
        "outputId": "fc7c7d09-edf6-4bad-ed69-3da1ecea268b"
      },
      "execution_count": 14,
      "outputs": [
        {
          "output_type": "execute_result",
          "data": {
            "text/plain": [
              "count                             1000\n",
              "mean     2023-07-03 00:25:55.200000256\n",
              "min                2023-01-01 00:00:00\n",
              "25%                2023-04-08 00:00:00\n",
              "50%                2023-06-29 12:00:00\n",
              "75%                2023-10-04 00:00:00\n",
              "max                2024-01-01 00:00:00\n",
              "Name: date, dtype: object"
            ]
          },
          "metadata": {},
          "execution_count": 14
        }
      ]
    },
    {
      "cell_type": "markdown",
      "source": [
        "#### Gender\n",
        "`conclusions:`\n",
        "\n",
        "- The retail sales data shows a slight majority of female customers (51%) compared to males (49%), indicating a relatively balanced gender distribution in the customer base."
      ],
      "metadata": {
        "id": "eEb9D830t4cu"
      }
    },
    {
      "cell_type": "code",
      "source": [
        "# gender column frequency\n",
        "df['gender'].value_counts()"
      ],
      "metadata": {
        "execution": {
          "iopub.status.busy": "2024-03-05T13:49:06.013141Z",
          "iopub.execute_input": "2024-03-05T13:49:06.013643Z",
          "iopub.status.idle": "2024-03-05T13:49:06.026345Z",
          "shell.execute_reply.started": "2024-03-05T13:49:06.0136Z",
          "shell.execute_reply": "2024-03-05T13:49:06.024971Z"
        },
        "trusted": true,
        "id": "MocuaYW8t4cu",
        "colab": {
          "base_uri": "https://localhost:8080/"
        },
        "outputId": "2b69238d-9425-4d97-e034-7d2a21eff434"
      },
      "execution_count": 15,
      "outputs": [
        {
          "output_type": "execute_result",
          "data": {
            "text/plain": [
              "gender\n",
              "Female    510\n",
              "Male      490\n",
              "Name: count, dtype: int64"
            ]
          },
          "metadata": {},
          "execution_count": 15
        }
      ]
    },
    {
      "cell_type": "code",
      "source": [
        "# pie chart\n",
        "df['gender'].value_counts().plot(kind='pie', autopct='%.2f%%')"
      ],
      "metadata": {
        "execution": {
          "iopub.status.busy": "2024-03-05T13:49:06.028194Z",
          "iopub.execute_input": "2024-03-05T13:49:06.028647Z",
          "iopub.status.idle": "2024-03-05T13:49:06.231282Z",
          "shell.execute_reply.started": "2024-03-05T13:49:06.02861Z",
          "shell.execute_reply": "2024-03-05T13:49:06.229476Z"
        },
        "trusted": true,
        "id": "S3YfHVU0t4cu",
        "colab": {
          "base_uri": "https://localhost:8080/",
          "height": 423
        },
        "outputId": "2454a3e1-761a-43e0-e7e6-9d4ebc337686"
      },
      "execution_count": 16,
      "outputs": [
        {
          "output_type": "execute_result",
          "data": {
            "text/plain": [
              "<Axes: ylabel='count'>"
            ]
          },
          "metadata": {},
          "execution_count": 16
        },
        {
          "output_type": "display_data",
          "data": {
            "text/plain": [
              "<Figure size 640x480 with 1 Axes>"
            ],
            "image/png": "[encoded data removed]"
          },
          "metadata": {}
        }
      ]
    },
    {
      "cell_type": "markdown",
      "source": [
        "#### Product Category\n",
        "`conclusions:`\n",
        "- The sales data reveals that clothing, electronics, and beauty products are the top three categories, with clothing leading slightly (351), followed closely by electronics (342), and beauty products (307)."
      ],
      "metadata": {
        "id": "QBaFTE_gt4cu"
      }
    },
    {
      "cell_type": "code",
      "source": [
        "# frequency of product_category\n",
        "tem_df['product_category'].value_counts()"
      ],
      "metadata": {
        "execution": {
          "iopub.status.busy": "2024-03-05T13:49:06.233928Z",
          "iopub.execute_input": "2024-03-05T13:49:06.234576Z",
          "iopub.status.idle": "2024-03-05T13:49:06.25486Z",
          "shell.execute_reply.started": "2024-03-05T13:49:06.234519Z",
          "shell.execute_reply": "2024-03-05T13:49:06.252782Z"
        },
        "trusted": true,
        "id": "MC3Gttqnt4cu",
        "colab": {
          "base_uri": "https://localhost:8080/"
        },
        "outputId": "fe963853-bb2f-41b2-8091-2576ec554754"
      },
      "execution_count": 17,
      "outputs": [
        {
          "output_type": "execute_result",
          "data": {
            "text/plain": [
              "product_category\n",
              "Clothing       351\n",
              "Electronics    342\n",
              "Beauty         307\n",
              "Name: count, dtype: int64"
            ]
          },
          "metadata": {},
          "execution_count": 17
        }
      ]
    },
    {
      "cell_type": "code",
      "source": [
        "tem_df['product_category'].value_counts().plot(kind='bar', color='black')"
      ],
      "metadata": {
        "execution": {
          "iopub.status.busy": "2024-03-05T13:49:06.258362Z",
          "iopub.execute_input": "2024-03-05T13:49:06.259653Z",
          "iopub.status.idle": "2024-03-05T13:49:06.536004Z",
          "shell.execute_reply.started": "2024-03-05T13:49:06.259589Z",
          "shell.execute_reply": "2024-03-05T13:49:06.533144Z"
        },
        "trusted": true,
        "id": "qaBEFzuWt4cv",
        "colab": {
          "base_uri": "https://localhost:8080/",
          "height": 528
        },
        "outputId": "57ea4bf3-f8b1-4135-86cf-9acb2aaa8280"
      },
      "execution_count": 18,
      "outputs": [
        {
          "output_type": "execute_result",
          "data": {
            "text/plain": [
              "<Axes: xlabel='product_category'>"
            ]
          },
          "metadata": {},
          "execution_count": 18
        },
        {
          "output_type": "display_data",
          "data": {
            "text/plain": [
              "<Figure size 640x480 with 1 Axes>"
            ],
            "image/png": "[encoded data removed]"
          },
          "metadata": {}
        }
      ]
    },
    {
      "cell_type": "markdown",
      "source": [
        "#### Age\n",
        "`conclusions:`\n",
        "- The skewness score of -0.0488 suggests a near-symmetrical distribution, which aligns with the appearance of a uniform distribution.\n",
        "- The age distribution of customers exhibits a very slight negative skew (-0.0488), indicating a slight tendency towards younger ages, though overall it remains relatively symmetrical. With a mean age of 41.39 years and a standard deviation of 13.68, customers range from 18 to 64 years old, with median and quartile values providing insight into the central tendency and dispersion of the data."
      ],
      "metadata": {
        "id": "fGYUdJdWt4cv"
      }
    },
    {
      "cell_type": "code",
      "source": [
        "# descriptive stats\n",
        "tem_df['age'].describe()"
      ],
      "metadata": {
        "execution": {
          "iopub.status.busy": "2024-03-05T13:49:06.5377Z",
          "iopub.execute_input": "2024-03-05T13:49:06.5382Z",
          "iopub.status.idle": "2024-03-05T13:49:06.552058Z",
          "shell.execute_reply.started": "2024-03-05T13:49:06.538167Z",
          "shell.execute_reply": "2024-03-05T13:49:06.550628Z"
        },
        "trusted": true,
        "id": "gD7bKnQQt4cv",
        "colab": {
          "base_uri": "https://localhost:8080/"
        },
        "outputId": "90f2c32e-dc65-459e-c83c-1445a5426066"
      },
      "execution_count": 19,
      "outputs": [
        {
          "output_type": "execute_result",
          "data": {
            "text/plain": [
              "count    1000.00000\n",
              "mean       41.39200\n",
              "std        13.68143\n",
              "min        18.00000\n",
              "25%        29.00000\n",
              "50%        42.00000\n",
              "75%        53.00000\n",
              "max        64.00000\n",
              "Name: age, dtype: float64"
            ]
          },
          "metadata": {},
          "execution_count": 19
        }
      ]
    },
    {
      "cell_type": "code",
      "source": [
        "# distribution\n",
        "tem_df['age'].plot(kind='hist')"
      ],
      "metadata": {
        "execution": {
          "iopub.status.busy": "2024-03-05T13:49:06.554039Z",
          "iopub.execute_input": "2024-03-05T13:49:06.554708Z",
          "iopub.status.idle": "2024-03-05T13:49:06.886987Z",
          "shell.execute_reply.started": "2024-03-05T13:49:06.554669Z",
          "shell.execute_reply": "2024-03-05T13:49:06.885819Z"
        },
        "trusted": true,
        "id": "Bul8SECPt4cv",
        "colab": {
          "base_uri": "https://localhost:8080/",
          "height": 450
        },
        "outputId": "3d9ce70b-1f79-4cec-d88e-e99356902be1"
      },
      "execution_count": 20,
      "outputs": [
        {
          "output_type": "execute_result",
          "data": {
            "text/plain": [
              "<Axes: ylabel='Frequency'>"
            ]
          },
          "metadata": {},
          "execution_count": 20
        },
        {
          "output_type": "display_data",
          "data": {
            "text/plain": [
              "<Figure size 640x480 with 1 Axes>"
            ],
            "image/png": "[encoded data removed]"
          },
          "metadata": {}
        }
      ]
    },
    {
      "cell_type": "code",
      "source": [
        "# skew score\n",
        "tem_df['age'].skew()"
      ],
      "metadata": {
        "execution": {
          "iopub.status.busy": "2024-03-05T13:49:06.888821Z",
          "iopub.execute_input": "2024-03-05T13:49:06.889261Z",
          "iopub.status.idle": "2024-03-05T13:49:06.897489Z",
          "shell.execute_reply.started": "2024-03-05T13:49:06.889224Z",
          "shell.execute_reply": "2024-03-05T13:49:06.896516Z"
        },
        "trusted": true,
        "id": "sLPl6IbBt4cv",
        "colab": {
          "base_uri": "https://localhost:8080/"
        },
        "outputId": "d0110458-550f-4904-b8cb-6e2a726687e2"
      },
      "execution_count": 21,
      "outputs": [
        {
          "output_type": "execute_result",
          "data": {
            "text/plain": [
              "-0.04881245380328967"
            ]
          },
          "metadata": {},
          "execution_count": 21
        }
      ]
    },
    {
      "cell_type": "markdown",
      "source": [
        "#### Quantity\n",
        "`conclusions:`\n",
        "- The quantity distribution indicates a mean purchase quantity of 2.514 with a standard deviation of 1.133. The majority of purchases fall within the range of 1 to 4 items, with 50% of purchases being 3 or fewer items."
      ],
      "metadata": {
        "id": "9vq8Ns98t4cv"
      }
    },
    {
      "cell_type": "code",
      "source": [
        "# descriptive stats\n",
        "tem_df['quantity'].describe()"
      ],
      "metadata": {
        "execution": {
          "iopub.status.busy": "2024-03-05T13:49:06.899297Z",
          "iopub.execute_input": "2024-03-05T13:49:06.899848Z",
          "iopub.status.idle": "2024-03-05T13:49:06.917259Z",
          "shell.execute_reply.started": "2024-03-05T13:49:06.899801Z",
          "shell.execute_reply": "2024-03-05T13:49:06.915988Z"
        },
        "trusted": true,
        "id": "VQp-OV80t4cv",
        "colab": {
          "base_uri": "https://localhost:8080/"
        },
        "outputId": "bdde7f71-85d0-4a5f-94c4-63327f19b4ff"
      },
      "execution_count": 22,
      "outputs": [
        {
          "output_type": "execute_result",
          "data": {
            "text/plain": [
              "count    1000.000000\n",
              "mean        2.514000\n",
              "std         1.132734\n",
              "min         1.000000\n",
              "25%         1.000000\n",
              "50%         3.000000\n",
              "75%         4.000000\n",
              "max         4.000000\n",
              "Name: quantity, dtype: float64"
            ]
          },
          "metadata": {},
          "execution_count": 22
        }
      ]
    },
    {
      "cell_type": "code",
      "source": [
        "import seaborn as sns\n",
        "import matplotlib.pyplot as plt\n",
        "import warnings\n",
        "warnings.filterwarnings('ignore')"
      ],
      "metadata": {
        "execution": {
          "iopub.status.busy": "2024-03-05T13:49:06.919254Z",
          "iopub.execute_input": "2024-03-05T13:49:06.919998Z",
          "iopub.status.idle": "2024-03-05T13:49:08.676818Z",
          "shell.execute_reply.started": "2024-03-05T13:49:06.919963Z",
          "shell.execute_reply": "2024-03-05T13:49:08.675784Z"
        },
        "trusted": true,
        "id": "JStLYCCPt4cv"
      },
      "execution_count": 23,
      "outputs": []
    },
    {
      "cell_type": "code",
      "source": [
        "tem_df['quantity'].value_counts().plot(kind='bar')"
      ],
      "metadata": {
        "execution": {
          "iopub.status.busy": "2024-03-05T13:49:08.678196Z",
          "iopub.execute_input": "2024-03-05T13:49:08.678551Z",
          "iopub.status.idle": "2024-03-05T13:49:08.928905Z",
          "shell.execute_reply.started": "2024-03-05T13:49:08.678522Z",
          "shell.execute_reply": "2024-03-05T13:49:08.92746Z"
        },
        "trusted": true,
        "id": "ass7l6k5t4cw",
        "colab": {
          "base_uri": "https://localhost:8080/",
          "height": 461
        },
        "outputId": "bd32cf97-859a-4bcf-dc30-57bfb7c7fafd"
      },
      "execution_count": 24,
      "outputs": [
        {
          "output_type": "execute_result",
          "data": {
            "text/plain": [
              "<Axes: xlabel='quantity'>"
            ]
          },
          "metadata": {},
          "execution_count": 24
        },
        {
          "output_type": "display_data",
          "data": {
            "text/plain": [
              "<Figure size 640x480 with 1 Axes>"
            ],
            "image/png": "[encoded data removed]"
          },
          "metadata": {}
        }
      ]
    },
    {
      "cell_type": "markdown",
      "source": [
        "#### Price Per Unit\n",
        "`conclusions:`\n",
        "- The \"price_per_unit\" column has distinct values at 25, 30, 50, 300, and 500, with corresponding counts of 210, 183, 211, 197, and 199, respectively. The summary statistics show a mean of 179.89, with prices ranging from 25 to 500, and 50% of prices falling between 30 and 300."
      ],
      "metadata": {
        "id": "yduwbNNpt4cw"
      }
    },
    {
      "cell_type": "code",
      "source": [
        "# descriptive stats\n",
        "tem_df['price_per_unit'].describe()"
      ],
      "metadata": {
        "execution": {
          "iopub.status.busy": "2024-03-05T13:49:08.930904Z",
          "iopub.execute_input": "2024-03-05T13:49:08.931307Z",
          "iopub.status.idle": "2024-03-05T13:49:08.945044Z",
          "shell.execute_reply.started": "2024-03-05T13:49:08.931272Z",
          "shell.execute_reply": "2024-03-05T13:49:08.943505Z"
        },
        "trusted": true,
        "id": "OsaPom5ft4cw",
        "colab": {
          "base_uri": "https://localhost:8080/"
        },
        "outputId": "5075561f-456d-4c05-fa51-405a1267e9fa"
      },
      "execution_count": 25,
      "outputs": [
        {
          "output_type": "execute_result",
          "data": {
            "text/plain": [
              "count    1000.000000\n",
              "mean      179.890000\n",
              "std       189.681356\n",
              "min        25.000000\n",
              "25%        30.000000\n",
              "50%        50.000000\n",
              "75%       300.000000\n",
              "max       500.000000\n",
              "Name: price_per_unit, dtype: float64"
            ]
          },
          "metadata": {},
          "execution_count": 25
        }
      ]
    },
    {
      "cell_type": "code",
      "source": [
        "sns.histplot(tem_df, x='price_per_unit')\n",
        "plt.show()"
      ],
      "metadata": {
        "execution": {
          "iopub.status.busy": "2024-03-05T13:49:08.946814Z",
          "iopub.execute_input": "2024-03-05T13:49:08.947193Z",
          "iopub.status.idle": "2024-03-05T13:49:09.237613Z",
          "shell.execute_reply.started": "2024-03-05T13:49:08.947161Z",
          "shell.execute_reply": "2024-03-05T13:49:09.23632Z"
        },
        "trusted": true,
        "id": "PxHJ2_85t4cw",
        "colab": {
          "base_uri": "https://localhost:8080/",
          "height": 450
        },
        "outputId": "53189a7b-feb4-41ab-c4f2-52d29e29ce87"
      },
      "execution_count": 26,
      "outputs": [
        {
          "output_type": "display_data",
          "data": {
            "text/plain": [
              "<Figure size 640x480 with 1 Axes>"
            ],
            "image/png": "[encoded data removed]"
          },
          "metadata": {}
        }
      ]
    },
    {
      "cell_type": "markdown",
      "source": [
        "#### Total Amount\n",
        "`conclusions:`\n",
        "- The data for the \"total_spent\" column indicates a mean expenditure of 456, with a standard deviation of 560. Expenditures range from 25 to 2000, with 50% of the values falling between 60 and 900, reflecting diverse spending patterns among customers."
      ],
      "metadata": {
        "id": "tCGzvMpwt4cw"
      }
    },
    {
      "cell_type": "code",
      "source": [
        "# stats\n",
        "tem_df['total_amount'].describe()"
      ],
      "metadata": {
        "execution": {
          "iopub.status.busy": "2024-03-05T13:49:09.239065Z",
          "iopub.execute_input": "2024-03-05T13:49:09.23947Z",
          "iopub.status.idle": "2024-03-05T13:49:09.255204Z",
          "shell.execute_reply.started": "2024-03-05T13:49:09.239433Z",
          "shell.execute_reply": "2024-03-05T13:49:09.25338Z"
        },
        "trusted": true,
        "id": "t-0zApzNt4cw",
        "colab": {
          "base_uri": "https://localhost:8080/"
        },
        "outputId": "bd55d41e-ae44-4c77-e036-d753a504462c"
      },
      "execution_count": 27,
      "outputs": [
        {
          "output_type": "execute_result",
          "data": {
            "text/plain": [
              "count    1000.000000\n",
              "mean      456.000000\n",
              "std       559.997632\n",
              "min        25.000000\n",
              "25%        60.000000\n",
              "50%       135.000000\n",
              "75%       900.000000\n",
              "max      2000.000000\n",
              "Name: total_amount, dtype: float64"
            ]
          },
          "metadata": {},
          "execution_count": 27
        }
      ]
    },
    {
      "cell_type": "code",
      "source": [
        "plt.figure(figsize=(6,3))\n",
        "sns.histplot(tem_df['total_amount'])\n",
        "plt.title('Total Amount Distribution')\n",
        "plt.show()"
      ],
      "metadata": {
        "execution": {
          "iopub.status.busy": "2024-03-05T13:49:09.256845Z",
          "iopub.execute_input": "2024-03-05T13:49:09.257199Z",
          "iopub.status.idle": "2024-03-05T13:49:09.580602Z",
          "shell.execute_reply.started": "2024-03-05T13:49:09.257171Z",
          "shell.execute_reply": "2024-03-05T13:49:09.579781Z"
        },
        "trusted": true,
        "id": "i_3VjADgt4cx",
        "colab": {
          "base_uri": "https://localhost:8080/",
          "height": 333
        },
        "outputId": "c1d5ab2b-9fe4-4ba4-e143-e6c829b5a87f"
      },
      "execution_count": 28,
      "outputs": [
        {
          "output_type": "display_data",
          "data": {
            "text/plain": [
              "<Figure size 600x300 with 1 Axes>"
            ],
            "image/png": "[encoded data removed]"
          },
          "metadata": {}
        }
      ]
    },
    {
      "cell_type": "markdown",
      "source": [
        "# Bivariate Analysis"
      ],
      "metadata": {
        "id": "8K-HDffPt4cx"
      }
    },
    {
      "cell_type": "markdown",
      "source": [
        "- Numerical vs Numerical"
      ],
      "metadata": {
        "id": "epOiYwzlt4c1"
      }
    },
    {
      "cell_type": "code",
      "source": [
        "# scatterplot between age and total_amount\n",
        "sns.scatterplot(tem_df, x='age', y='total_amount')"
      ],
      "metadata": {
        "execution": {
          "iopub.status.busy": "2024-03-05T13:49:09.581891Z",
          "iopub.execute_input": "2024-03-05T13:49:09.582354Z",
          "iopub.status.idle": "2024-03-05T13:49:09.902196Z",
          "shell.execute_reply.started": "2024-03-05T13:49:09.582327Z",
          "shell.execute_reply": "2024-03-05T13:49:09.900921Z"
        },
        "trusted": true,
        "id": "OqGvvxKit4c1",
        "colab": {
          "base_uri": "https://localhost:8080/",
          "height": 466
        },
        "outputId": "11b657ce-0634-4f0e-884d-91211924df7d"
      },
      "execution_count": 29,
      "outputs": [
        {
          "output_type": "execute_result",
          "data": {
            "text/plain": [
              "<Axes: xlabel='age', ylabel='total_amount'>"
            ]
          },
          "metadata": {},
          "execution_count": 29
        },
        {
          "output_type": "display_data",
          "data": {
            "text/plain": [
              "<Figure size 640x480 with 1 Axes>"
            ],
            "image/png": "[encoded data removed]"
          },
          "metadata": {}
        }
      ]
    },
    {
      "cell_type": "code",
      "source": [
        "tem_df['age'].corr(df['total_amount'])"
      ],
      "metadata": {
        "execution": {
          "iopub.status.busy": "2024-03-05T13:49:09.909487Z",
          "iopub.execute_input": "2024-03-05T13:49:09.910048Z",
          "iopub.status.idle": "2024-03-05T13:49:09.921241Z",
          "shell.execute_reply.started": "2024-03-05T13:49:09.910017Z",
          "shell.execute_reply": "2024-03-05T13:49:09.919901Z"
        },
        "trusted": true,
        "id": "2wvDrWCZt4c1",
        "colab": {
          "base_uri": "https://localhost:8080/"
        },
        "outputId": "b61457bd-9e01-44e8-a773-5455823303b7"
      },
      "execution_count": 31,
      "outputs": [
        {
          "output_type": "execute_result",
          "data": {
            "text/plain": [
              "-0.0605680238830457"
            ]
          },
          "metadata": {},
          "execution_count": 31
        }
      ]
    },
    {
      "cell_type": "markdown",
      "source": [
        "- The correlation coefficient between price per unit and total amount spent (0.8519) indicates a strong positive linear relationship. This suggests that as the price per unit increases, the total amount spent tends to increase as well."
      ],
      "metadata": {
        "id": "d0DW5ULxt4c2"
      }
    },
    {
      "cell_type": "code",
      "source": [
        "# scatterplot between price_per_unit and total_amount\n",
        "sns.scatterplot(tem_df, x='price_per_unit', y='total_amount')"
      ],
      "metadata": {
        "execution": {
          "iopub.status.busy": "2024-03-05T13:49:09.922911Z",
          "iopub.execute_input": "2024-03-05T13:49:09.923304Z",
          "iopub.status.idle": "2024-03-05T13:49:10.239Z",
          "shell.execute_reply.started": "2024-03-05T13:49:09.923263Z",
          "shell.execute_reply": "2024-03-05T13:49:10.237911Z"
        },
        "trusted": true,
        "id": "aAzrySWXt4c2",
        "colab": {
          "base_uri": "https://localhost:8080/",
          "height": 467
        },
        "outputId": "ace1cda5-1598-439d-b7e6-19e167b31ae6"
      },
      "execution_count": 32,
      "outputs": [
        {
          "output_type": "execute_result",
          "data": {
            "text/plain": [
              "<Axes: xlabel='price_per_unit', ylabel='total_amount'>"
            ]
          },
          "metadata": {},
          "execution_count": 32
        },
        {
          "output_type": "display_data",
          "data": {
            "text/plain": [
              "<Figure size 640x480 with 1 Axes>"
            ],
            "image/png": "[encoded data removed]"
          },
          "metadata": {}
        }
      ]
    },
    {
      "cell_type": "code",
      "source": [
        "# corr score\n",
        "tem_df['price_per_unit'].corr(df['total_amount'])"
      ],
      "metadata": {
        "execution": {
          "iopub.status.busy": "2024-03-05T13:49:10.240582Z",
          "iopub.execute_input": "2024-03-05T13:49:10.240991Z",
          "iopub.status.idle": "2024-03-05T13:49:10.251732Z",
          "shell.execute_reply.started": "2024-03-05T13:49:10.240955Z",
          "shell.execute_reply": "2024-03-05T13:49:10.25026Z"
        },
        "trusted": true,
        "id": "TcK83e98t4c2",
        "colab": {
          "base_uri": "https://localhost:8080/"
        },
        "outputId": "75cc499b-9d79-45de-b241-f785e07790dc"
      },
      "execution_count": 33,
      "outputs": [
        {
          "output_type": "execute_result",
          "data": {
            "text/plain": [
              "0.8519248403554022"
            ]
          },
          "metadata": {},
          "execution_count": 33
        }
      ]
    },
    {
      "cell_type": "markdown",
      "source": [
        "- The correlation coefficient between quantity and total amount spent (0.3737) suggests a moderate positive linear relationship. This implies that as the quantity of items purchased increases, there tends to be a corresponding increase in the total amount spent, though the relationship is not as strong as with price per unit."
      ],
      "metadata": {
        "id": "inCDk15lt4c2"
      }
    },
    {
      "cell_type": "code",
      "source": [
        "sns.scatterplot(tem_df, x='quantity', y='total_amount')"
      ],
      "metadata": {
        "execution": {
          "iopub.status.busy": "2024-03-05T13:49:10.253292Z",
          "iopub.execute_input": "2024-03-05T13:49:10.253977Z",
          "iopub.status.idle": "2024-03-05T13:49:10.586432Z",
          "shell.execute_reply.started": "2024-03-05T13:49:10.253941Z",
          "shell.execute_reply": "2024-03-05T13:49:10.585478Z"
        },
        "trusted": true,
        "id": "UVki-aEJt4c2",
        "colab": {
          "base_uri": "https://localhost:8080/",
          "height": 466
        },
        "outputId": "3e7dca21-7484-490f-eada-7c146afe40bc"
      },
      "execution_count": 34,
      "outputs": [
        {
          "output_type": "execute_result",
          "data": {
            "text/plain": [
              "<Axes: xlabel='quantity', ylabel='total_amount'>"
            ]
          },
          "metadata": {},
          "execution_count": 34
        },
        {
          "output_type": "display_data",
          "data": {
            "text/plain": [
              "<Figure size 640x480 with 1 Axes>"
            ],
            "image/png": "[encoded data removed]"
          },
          "metadata": {}
        }
      ]
    },
    {
      "cell_type": "code",
      "source": [
        "tem_df['quantity'].corr(df['total_amount'])"
      ],
      "metadata": {
        "execution": {
          "iopub.status.busy": "2024-03-05T13:49:10.587915Z",
          "iopub.execute_input": "2024-03-05T13:49:10.588505Z",
          "iopub.status.idle": "2024-03-05T13:49:10.597179Z",
          "shell.execute_reply.started": "2024-03-05T13:49:10.588475Z",
          "shell.execute_reply": "2024-03-05T13:49:10.595793Z"
        },
        "trusted": true,
        "id": "ZjbMzgIUt4c2",
        "colab": {
          "base_uri": "https://localhost:8080/"
        },
        "outputId": "2e7ed1d2-ee6e-41f1-eddc-1072661122bf"
      },
      "execution_count": 35,
      "outputs": [
        {
          "output_type": "execute_result",
          "data": {
            "text/plain": [
              "0.3737070541214061"
            ]
          },
          "metadata": {},
          "execution_count": 35
        }
      ]
    },
    {
      "cell_type": "markdown",
      "source": [
        "- Categorical vs Categorical"
      ],
      "metadata": {
        "id": "GyTLs0Ikt4c2"
      }
    },
    {
      "cell_type": "markdown",
      "source": [
        "- Females made more purchases in the Clothing category (174) compared to Beauty (166) and Electronics (170), while males made the highest number of purchases in Clothing (177), followed closely by Electronics (172) and Beauty (141). These results suggest differing purchasing preferences between genders, with both groups showing significant interest in Clothing, but males slightly favoring Electronics and females showing slightly higher interest in Beauty products."
      ],
      "metadata": {
        "id": "AFyAV1YQt4c3"
      }
    },
    {
      "cell_type": "code",
      "source": [
        "# gender and product category\n",
        "pd.crosstab(df['gender'], df['product_category'])"
      ],
      "metadata": {
        "execution": {
          "iopub.status.busy": "2024-03-05T13:49:10.598942Z",
          "iopub.execute_input": "2024-03-05T13:49:10.599294Z",
          "iopub.status.idle": "2024-03-05T13:49:10.631205Z",
          "shell.execute_reply.started": "2024-03-05T13:49:10.59926Z",
          "shell.execute_reply": "2024-03-05T13:49:10.62983Z"
        },
        "trusted": true,
        "id": "YR61mgq-t4c3",
        "colab": {
          "base_uri": "https://localhost:8080/",
          "height": 143
        },
        "outputId": "3800a90c-7a3b-4e52-aad9-a9ed7515582c"
      },
      "execution_count": 36,
      "outputs": [
        {
          "output_type": "execute_result",
          "data": {
            "text/plain": [
              "product_category  Beauty  Clothing  Electronics\n",
              "gender                                         \n",
              "Female               166       174          170\n",
              "Male                 141       177          172"
            ],
            "text/html": [
              "\n",
              "  <div id=\"df-984c1db7-1720-4ff2-a6d3-2ade808670ad\" class=\"colab-df-container\">\n",
              "    <div>\n",
              "<style scoped>\n",
              "    .dataframe tbody tr th:only-of-type {\n",
              "        vertical-align: middle;\n",
              "    }\n",
              "\n",
              "    .dataframe tbody tr th {\n",
              "        vertical-align: top;\n",
              "    }\n",
              "\n",
              "    .dataframe thead th {\n",
              "        text-align: right;\n",
              "    }\n",
              "</style>\n",
              "<table border=\"1\" class=\"dataframe\">\n",
              "  <thead>\n",
              "    <tr style=\"text-align: right;\">\n",
              "      <th>product_category</th>\n",
              "      <th>Beauty</th>\n",
              "      <th>Clothing</th>\n",
              "      <th>Electronics</th>\n",
              "    </tr>\n",
              "    <tr>\n",
              "      <th>gender</th>\n",
              "      <th></th>\n",
              "      <th></th>\n",
              "      <th></th>\n",
              "    </tr>\n",
              "  </thead>\n",
              "  <tbody>\n",
              "    <tr>\n",
              "      <th>Female</th>\n",
              "      <td>166</td>\n",
              "      <td>174</td>\n",
              "      <td>170</td>\n",
              "    </tr>\n",
              "    <tr>\n",
              "      <th>Male</th>\n",
              "      <td>141</td>\n",
              "      <td>177</td>\n",
              "      <td>172</td>\n",
              "    </tr>\n",
              "  </tbody>\n",
              "</table>\n",
              "</div>\n",
              "    <div class=\"colab-df-buttons\">\n",
              "\n",
              "  <div class=\"colab-df-container\">\n",
              "    <button class=\"colab-df-convert\" onclick=\"convertToInteractive('df-984c1db7-1720-4ff2-a6d3-2ade808670ad')\"\n",
              "            title=\"Convert this dataframe to an interactive table.\"\n",
              "            style=\"display:none;\">\n",
              "\n",
              "  <svg xmlns=\"http://www.w3.org/2000/svg\" height=\"24px\" viewBox=\"0 -960 960 960\">\n",
              "    <path d=\"M120-120v-720h720v720H120Zm60-500h600v-160H180v160Zm220 220h160v-160H400v160Zm0 220h160v-160H400v160ZM180-400h160v-160H180v160Zm440 0h160v-160H620v160ZM180-180h160v-160H180v160Zm440 0h160v-160H620v160Z\"/>\n",
              "  </svg>\n",
              "    </button>\n",
              "\n",
              "  <style>\n",
              "    .colab-df-container {\n",
              "      display:flex;\n",
              "      gap: 12px;\n",
              "    }\n",
              "\n",
              "    .colab-df-convert {\n",
              "      background-color: #E8F0FE;\n",
              "      border: none;\n",
              "      border-radius: 50%;\n",
              "      cursor: pointer;\n",
              "      display: none;\n",
              "      fill: #1967D2;\n",
              "      height: 32px;\n",
              "      padding: 0 0 0 0;\n",
              "      width: 32px;\n",
              "    }\n",
              "\n",
              "    .colab-df-convert:hover {\n",
              "      background-color: #E2EBFA;\n",
              "      box-shadow: 0px 1px 2px rgba(60, 64, 67, 0.3), 0px 1px 3px 1px rgba(60, 64, 67, 0.15);\n",
              "      fill: #174EA6;\n",
              "    }\n",
              "\n",
              "    .colab-df-buttons div {\n",
              "      margin-bottom: 4px;\n",
              "    }\n",
              "\n",
              "    [theme=dark] .colab-df-convert {\n",
              "      background-color: #3B4455;\n",
              "      fill: #D2E3FC;\n",
              "    }\n",
              "\n",
              "    [theme=dark] .colab-df-convert:hover {\n",
              "      background-color: #434B5C;\n",
              "      box-shadow: 0px 1px 3px 1px rgba(0, 0, 0, 0.15);\n",
              "      filter: drop-shadow(0px 1px 2px rgba(0, 0, 0, 0.3));\n",
              "      fill: #FFFFFF;\n",
              "    }\n",
              "  </style>\n",
              "\n",
              "    <script>\n",
              "      const buttonEl =\n",
              "        document.querySelector('#df-984c1db7-1720-4ff2-a6d3-2ade808670ad button.colab-df-convert');\n",
              "      buttonEl.style.display =\n",
              "        google.colab.kernel.accessAllowed ? 'block' : 'none';\n",
              "\n",
              "      async function convertToInteractive(key) {\n",
              "        const element = document.querySelector('#df-984c1db7-1720-4ff2-a6d3-2ade808670ad');\n",
              "        const dataTable =\n",
              "          await google.colab.kernel.invokeFunction('convertToInteractive',\n",
              "                                                    [key], {});\n",
              "        if (!dataTable) return;\n",
              "\n",
              "        const docLinkHtml = 'Like what you see? Visit the ' +\n",
              "          '<a target=\"_blank\" href=https://colab.research.google.com/notebooks/data_table.ipynb>data table notebook</a>'\n",
              "          + ' to learn more about interactive tables.';\n",
              "        element.innerHTML = '';\n",
              "        dataTable['output_type'] = 'display_data';\n",
              "        await google.colab.output.renderOutput(dataTable, element);\n",
              "        const docLink = document.createElement('div');\n",
              "        docLink.innerHTML = docLinkHtml;\n",
              "        element.appendChild(docLink);\n",
              "      }\n",
              "    </script>\n",
              "  </div>\n",
              "\n",
              "\n",
              "<div id=\"df-c04a16a3-fc98-4a9a-a78b-046240f1254a\">\n",
              "  <button class=\"colab-df-quickchart\" onclick=\"quickchart('df-c04a16a3-fc98-4a9a-a78b-046240f1254a')\"\n",
              "            title=\"Suggest charts\"\n",
              "            style=\"display:none;\">\n",
              "\n",
              "<svg xmlns=\"http://www.w3.org/2000/svg\" height=\"24px\"viewBox=\"0 0 24 24\"\n",
              "     width=\"24px\">\n",
              "    <g>\n",
              "        <path d=\"M19 3H5c-1.1 0-2 .9-2 2v14c0 1.1.9 2 2 2h14c1.1 0 2-.9 2-2V5c0-1.1-.9-2-2-2zM9 17H7v-7h2v7zm4 0h-2V7h2v10zm4 0h-2v-4h2v4z\"/>\n",
              "    </g>\n",
              "</svg>\n",
              "  </button>\n",
              "\n",
              "<style>\n",
              "  .colab-df-quickchart {\n",
              "      --bg-color: #E8F0FE;\n",
              "      --fill-color: #1967D2;\n",
              "      --hover-bg-color: #E2EBFA;\n",
              "      --hover-fill-color: #174EA6;\n",
              "      --disabled-fill-color: #AAA;\n",
              "      --disabled-bg-color: #DDD;\n",
              "  }\n",
              "\n",
              "  [theme=dark] .colab-df-quickchart {\n",
              "      --bg-color: #3B4455;\n",
              "      --fill-color: #D2E3FC;\n",
              "      --hover-bg-color: #434B5C;\n",
              "      --hover-fill-color: #FFFFFF;\n",
              "      --disabled-bg-color: #3B4455;\n",
              "      --disabled-fill-color: #666;\n",
              "  }\n",
              "\n",
              "  .colab-df-quickchart {\n",
              "    background-color: var(--bg-color);\n",
              "    border: none;\n",
              "    border-radius: 50%;\n",
              "    cursor: pointer;\n",
              "    display: none;\n",
              "    fill: var(--fill-color);\n",
              "    height: 32px;\n",
              "    padding: 0;\n",
              "    width: 32px;\n",
              "  }\n",
              "\n",
              "  .colab-df-quickchart:hover {\n",
              "    background-color: var(--hover-bg-color);\n",
              "    box-shadow: 0 1px 2px rgba(60, 64, 67, 0.3), 0 1px 3px 1px rgba(60, 64, 67, 0.15);\n",
              "    fill: var(--button-hover-fill-color);\n",
              "  }\n",
              "\n",
              "  .colab-df-quickchart-complete:disabled,\n",
              "  .colab-df-quickchart-complete:disabled:hover {\n",
              "    background-color: var(--disabled-bg-color);\n",
              "    fill: var(--disabled-fill-color);\n",
              "    box-shadow: none;\n",
              "  }\n",
              "\n",
              "  .colab-df-spinner {\n",
              "    border: 2px solid var(--fill-color);\n",
              "    border-color: transparent;\n",
              "    border-bottom-color: var(--fill-color);\n",
              "    animation:\n",
              "      spin 1s steps(1) infinite;\n",
              "  }\n",
              "\n",
              "  @keyframes spin {\n",
              "    0% {\n",
              "      border-color: transparent;\n",
              "      border-bottom-color: var(--fill-color);\n",
              "      border-left-color: var(--fill-color);\n",
              "    }\n",
              "    20% {\n",
              "      border-color: transparent;\n",
              "      border-left-color: var(--fill-color);\n",
              "      border-top-color: var(--fill-color);\n",
              "    }\n",
              "    30% {\n",
              "      border-color: transparent;\n",
              "      border-left-color: var(--fill-color);\n",
              "      border-top-color: var(--fill-color);\n",
              "      border-right-color: var(--fill-color);\n",
              "    }\n",
              "    40% {\n",
              "      border-color: transparent;\n",
              "      border-right-color: var(--fill-color);\n",
              "      border-top-color: var(--fill-color);\n",
              "    }\n",
              "    60% {\n",
              "      border-color: transparent;\n",
              "      border-right-color: var(--fill-color);\n",
              "    }\n",
              "    80% {\n",
              "      border-color: transparent;\n",
              "      border-right-color: var(--fill-color);\n",
              "      border-bottom-color: var(--fill-color);\n",
              "    }\n",
              "    90% {\n",
              "      border-color: transparent;\n",
              "      border-bottom-color: var(--fill-color);\n",
              "    }\n",
              "  }\n",
              "</style>\n",
              "\n",
              "  <script>\n",
              "    async function quickchart(key) {\n",
              "      const quickchartButtonEl =\n",
              "        document.querySelector('#' + key + ' button');\n",
              "      quickchartButtonEl.disabled = true;  // To prevent multiple clicks.\n",
              "      quickchartButtonEl.classList.add('colab-df-spinner');\n",
              "      try {\n",
              "        const charts = await google.colab.kernel.invokeFunction(\n",
              "            'suggestCharts', [key], {});\n",
              "      } catch (error) {\n",
              "        console.error('Error during call to suggestCharts:', error);\n",
              "      }\n",
              "      quickchartButtonEl.classList.remove('colab-df-spinner');\n",
              "      quickchartButtonEl.classList.add('colab-df-quickchart-complete');\n",
              "    }\n",
              "    (() => {\n",
              "      let quickchartButtonEl =\n",
              "        document.querySelector('#df-c04a16a3-fc98-4a9a-a78b-046240f1254a button');\n",
              "      quickchartButtonEl.style.display =\n",
              "        google.colab.kernel.accessAllowed ? 'block' : 'none';\n",
              "    })();\n",
              "  </script>\n",
              "</div>\n",
              "\n",
              "    </div>\n",
              "  </div>\n"
            ],
            "application/vnd.google.colaboratory.intrinsic+json": {
              "type": "dataframe",
              "summary": "{\n  \"name\": \"pd\",\n  \"rows\": 2,\n  \"fields\": [\n    {\n      \"column\": \"gender\",\n      \"properties\": {\n        \"dtype\": \"category\",\n        \"num_unique_values\": 2,\n        \"samples\": [\n          \"Male\",\n          \"Female\"\n        ],\n        \"semantic_type\": \"\",\n        \"description\": \"\"\n      }\n    },\n    {\n      \"column\": \"Beauty\",\n      \"properties\": {\n        \"dtype\": \"number\",\n        \"std\": 17,\n        \"min\": 141,\n        \"max\": 166,\n        \"num_unique_values\": 2,\n        \"samples\": [\n          141,\n          166\n        ],\n        \"semantic_type\": \"\",\n        \"description\": \"\"\n      }\n    },\n    {\n      \"column\": \"Clothing\",\n      \"properties\": {\n        \"dtype\": \"number\",\n        \"std\": 2,\n        \"min\": 174,\n        \"max\": 177,\n        \"num_unique_values\": 2,\n        \"samples\": [\n          177,\n          174\n        ],\n        \"semantic_type\": \"\",\n        \"description\": \"\"\n      }\n    },\n    {\n      \"column\": \"Electronics\",\n      \"properties\": {\n        \"dtype\": \"number\",\n        \"std\": 1,\n        \"min\": 170,\n        \"max\": 172,\n        \"num_unique_values\": 2,\n        \"samples\": [\n          172,\n          170\n        ],\n        \"semantic_type\": \"\",\n        \"description\": \"\"\n      }\n    }\n  ]\n}"
            }
          },
          "metadata": {},
          "execution_count": 36
        }
      ]
    },
    {
      "cell_type": "markdown",
      "source": [
        "- Both males and females exhibit similar purchasing patterns across different quantities of items. The highest frequency of purchases is for quantities of 4, with females purchasing 138 items and males purchasing 125 items. Quantity 3 follows closely for females with 127 purchases and slightly lower for males with 114 purchases. There's a relatively balanced distribution for quantities 1 and 2 between both genders, indicating similar buying behaviors regardless of quantity."
      ],
      "metadata": {
        "id": "CMHjlzPut4c3"
      }
    },
    {
      "cell_type": "code",
      "source": [
        "# gender and quantity\n",
        "pd.crosstab(df['gender'], df['quantity'])"
      ],
      "metadata": {
        "execution": {
          "iopub.status.busy": "2024-03-05T13:49:10.633587Z",
          "iopub.execute_input": "2024-03-05T13:49:10.633942Z",
          "iopub.status.idle": "2024-03-05T13:49:10.658048Z",
          "shell.execute_reply.started": "2024-03-05T13:49:10.633912Z",
          "shell.execute_reply": "2024-03-05T13:49:10.656502Z"
        },
        "trusted": true,
        "id": "0794nbx7t4c3",
        "colab": {
          "base_uri": "https://localhost:8080/",
          "height": 143
        },
        "outputId": "6d474a01-058c-4f93-e371-93692663bab6"
      },
      "execution_count": 37,
      "outputs": [
        {
          "output_type": "execute_result",
          "data": {
            "text/plain": [
              "quantity    1    2    3    4\n",
              "gender                      \n",
              "Female    125  120  127  138\n",
              "Male      128  123  114  125"
            ],
            "text/html": [
              "\n",
              "  <div id=\"df-1380321f-b9de-4050-83d3-42fda90b11da\" class=\"colab-df-container\">\n",
              "    <div>\n",
              "<style scoped>\n",
              "    .dataframe tbody tr th:only-of-type {\n",
              "        vertical-align: middle;\n",
              "    }\n",
              "\n",
              "    .dataframe tbody tr th {\n",
              "        vertical-align: top;\n",
              "    }\n",
              "\n",
              "    .dataframe thead th {\n",
              "        text-align: right;\n",
              "    }\n",
              "</style>\n",
              "<table border=\"1\" class=\"dataframe\">\n",
              "  <thead>\n",
              "    <tr style=\"text-align: right;\">\n",
              "      <th>quantity</th>\n",
              "      <th>1</th>\n",
              "      <th>2</th>\n",
              "      <th>3</th>\n",
              "      <th>4</th>\n",
              "    </tr>\n",
              "    <tr>\n",
              "      <th>gender</th>\n",
              "      <th></th>\n",
              "      <th></th>\n",
              "      <th></th>\n",
              "      <th></th>\n",
              "    </tr>\n",
              "  </thead>\n",
              "  <tbody>\n",
              "    <tr>\n",
              "      <th>Female</th>\n",
              "      <td>125</td>\n",
              "      <td>120</td>\n",
              "      <td>127</td>\n",
              "      <td>138</td>\n",
              "    </tr>\n",
              "    <tr>\n",
              "      <th>Male</th>\n",
              "      <td>128</td>\n",
              "      <td>123</td>\n",
              "      <td>114</td>\n",
              "      <td>125</td>\n",
              "    </tr>\n",
              "  </tbody>\n",
              "</table>\n",
              "</div>\n",
              "    <div class=\"colab-df-buttons\">\n",
              "\n",
              "  <div class=\"colab-df-container\">\n",
              "    <button class=\"colab-df-convert\" onclick=\"convertToInteractive('df-1380321f-b9de-4050-83d3-42fda90b11da')\"\n",
              "            title=\"Convert this dataframe to an interactive table.\"\n",
              "            style=\"display:none;\">\n",
              "\n",
              "  <svg xmlns=\"http://www.w3.org/2000/svg\" height=\"24px\" viewBox=\"0 -960 960 960\">\n",
              "    <path d=\"M120-120v-720h720v720H120Zm60-500h600v-160H180v160Zm220 220h160v-160H400v160Zm0 220h160v-160H400v160ZM180-400h160v-160H180v160Zm440 0h160v-160H620v160ZM180-180h160v-160H180v160Zm440 0h160v-160H620v160Z\"/>\n",
              "  </svg>\n",
              "    </button>\n",
              "\n",
              "  <style>\n",
              "    .colab-df-container {\n",
              "      display:flex;\n",
              "      gap: 12px;\n",
              "    }\n",
              "\n",
              "    .colab-df-convert {\n",
              "      background-color: #E8F0FE;\n",
              "      border: none;\n",
              "      border-radius: 50%;\n",
              "      cursor: pointer;\n",
              "      display: none;\n",
              "      fill: #1967D2;\n",
              "      height: 32px;\n",
              "      padding: 0 0 0 0;\n",
              "      width: 32px;\n",
              "    }\n",
              "\n",
              "    .colab-df-convert:hover {\n",
              "      background-color: #E2EBFA;\n",
              "      box-shadow: 0px 1px 2px rgba(60, 64, 67, 0.3), 0px 1px 3px 1px rgba(60, 64, 67, 0.15);\n",
              "      fill: #174EA6;\n",
              "    }\n",
              "\n",
              "    .colab-df-buttons div {\n",
              "      margin-bottom: 4px;\n",
              "    }\n",
              "\n",
              "    [theme=dark] .colab-df-convert {\n",
              "      background-color: #3B4455;\n",
              "      fill: #D2E3FC;\n",
              "    }\n",
              "\n",
              "    [theme=dark] .colab-df-convert:hover {\n",
              "      background-color: #434B5C;\n",
              "      box-shadow: 0px 1px 3px 1px rgba(0, 0, 0, 0.15);\n",
              "      filter: drop-shadow(0px 1px 2px rgba(0, 0, 0, 0.3));\n",
              "      fill: #FFFFFF;\n",
              "    }\n",
              "  </style>\n",
              "\n",
              "    <script>\n",
              "      const buttonEl =\n",
              "        document.querySelector('#df-1380321f-b9de-4050-83d3-42fda90b11da button.colab-df-convert');\n",
              "      buttonEl.style.display =\n",
              "        google.colab.kernel.accessAllowed ? 'block' : 'none';\n",
              "\n",
              "      async function convertToInteractive(key) {\n",
              "        const element = document.querySelector('#df-1380321f-b9de-4050-83d3-42fda90b11da');\n",
              "        const dataTable =\n",
              "          await google.colab.kernel.invokeFunction('convertToInteractive',\n",
              "                                                    [key], {});\n",
              "        if (!dataTable) return;\n",
              "\n",
              "        const docLinkHtml = 'Like what you see? Visit the ' +\n",
              "          '<a target=\"_blank\" href=https://colab.research.google.com/notebooks/data_table.ipynb>data table notebook</a>'\n",
              "          + ' to learn more about interactive tables.';\n",
              "        element.innerHTML = '';\n",
              "        dataTable['output_type'] = 'display_data';\n",
              "        await google.colab.output.renderOutput(dataTable, element);\n",
              "        const docLink = document.createElement('div');\n",
              "        docLink.innerHTML = docLinkHtml;\n",
              "        element.appendChild(docLink);\n",
              "      }\n",
              "    </script>\n",
              "  </div>\n",
              "\n",
              "\n",
              "<div id=\"df-7c2a0124-3fc2-449f-8828-9ad4b0073828\">\n",
              "  <button class=\"colab-df-quickchart\" onclick=\"quickchart('df-7c2a0124-3fc2-449f-8828-9ad4b0073828')\"\n",
              "            title=\"Suggest charts\"\n",
              "            style=\"display:none;\">\n",
              "\n",
              "<svg xmlns=\"http://www.w3.org/2000/svg\" height=\"24px\"viewBox=\"0 0 24 24\"\n",
              "     width=\"24px\">\n",
              "    <g>\n",
              "        <path d=\"M19 3H5c-1.1 0-2 .9-2 2v14c0 1.1.9 2 2 2h14c1.1 0 2-.9 2-2V5c0-1.1-.9-2-2-2zM9 17H7v-7h2v7zm4 0h-2V7h2v10zm4 0h-2v-4h2v4z\"/>\n",
              "    </g>\n",
              "</svg>\n",
              "  </button>\n",
              "\n",
              "<style>\n",
              "  .colab-df-quickchart {\n",
              "      --bg-color: #E8F0FE;\n",
              "      --fill-color: #1967D2;\n",
              "      --hover-bg-color: #E2EBFA;\n",
              "      --hover-fill-color: #174EA6;\n",
              "      --disabled-fill-color: #AAA;\n",
              "      --disabled-bg-color: #DDD;\n",
              "  }\n",
              "\n",
              "  [theme=dark] .colab-df-quickchart {\n",
              "      --bg-color: #3B4455;\n",
              "      --fill-color: #D2E3FC;\n",
              "      --hover-bg-color: #434B5C;\n",
              "      --hover-fill-color: #FFFFFF;\n",
              "      --disabled-bg-color: #3B4455;\n",
              "      --disabled-fill-color: #666;\n",
              "  }\n",
              "\n",
              "  .colab-df-quickchart {\n",
              "    background-color: var(--bg-color);\n",
              "    border: none;\n",
              "    border-radius: 50%;\n",
              "    cursor: pointer;\n",
              "    display: none;\n",
              "    fill: var(--fill-color);\n",
              "    height: 32px;\n",
              "    padding: 0;\n",
              "    width: 32px;\n",
              "  }\n",
              "\n",
              "  .colab-df-quickchart:hover {\n",
              "    background-color: var(--hover-bg-color);\n",
              "    box-shadow: 0 1px 2px rgba(60, 64, 67, 0.3), 0 1px 3px 1px rgba(60, 64, 67, 0.15);\n",
              "    fill: var(--button-hover-fill-color);\n",
              "  }\n",
              "\n",
              "  .colab-df-quickchart-complete:disabled,\n",
              "  .colab-df-quickchart-complete:disabled:hover {\n",
              "    background-color: var(--disabled-bg-color);\n",
              "    fill: var(--disabled-fill-color);\n",
              "    box-shadow: none;\n",
              "  }\n",
              "\n",
              "  .colab-df-spinner {\n",
              "    border: 2px solid var(--fill-color);\n",
              "    border-color: transparent;\n",
              "    border-bottom-color: var(--fill-color);\n",
              "    animation:\n",
              "      spin 1s steps(1) infinite;\n",
              "  }\n",
              "\n",
              "  @keyframes spin {\n",
              "    0% {\n",
              "      border-color: transparent;\n",
              "      border-bottom-color: var(--fill-color);\n",
              "      border-left-color: var(--fill-color);\n",
              "    }\n",
              "    20% {\n",
              "      border-color: transparent;\n",
              "      border-left-color: var(--fill-color);\n",
              "      border-top-color: var(--fill-color);\n",
              "    }\n",
              "    30% {\n",
              "      border-color: transparent;\n",
              "      border-left-color: var(--fill-color);\n",
              "      border-top-color: var(--fill-color);\n",
              "      border-right-color: var(--fill-color);\n",
              "    }\n",
              "    40% {\n",
              "      border-color: transparent;\n",
              "      border-right-color: var(--fill-color);\n",
              "      border-top-color: var(--fill-color);\n",
              "    }\n",
              "    60% {\n",
              "      border-color: transparent;\n",
              "      border-right-color: var(--fill-color);\n",
              "    }\n",
              "    80% {\n",
              "      border-color: transparent;\n",
              "      border-right-color: var(--fill-color);\n",
              "      border-bottom-color: var(--fill-color);\n",
              "    }\n",
              "    90% {\n",
              "      border-color: transparent;\n",
              "      border-bottom-color: var(--fill-color);\n",
              "    }\n",
              "  }\n",
              "</style>\n",
              "\n",
              "  <script>\n",
              "    async function quickchart(key) {\n",
              "      const quickchartButtonEl =\n",
              "        document.querySelector('#' + key + ' button');\n",
              "      quickchartButtonEl.disabled = true;  // To prevent multiple clicks.\n",
              "      quickchartButtonEl.classList.add('colab-df-spinner');\n",
              "      try {\n",
              "        const charts = await google.colab.kernel.invokeFunction(\n",
              "            'suggestCharts', [key], {});\n",
              "      } catch (error) {\n",
              "        console.error('Error during call to suggestCharts:', error);\n",
              "      }\n",
              "      quickchartButtonEl.classList.remove('colab-df-spinner');\n",
              "      quickchartButtonEl.classList.add('colab-df-quickchart-complete');\n",
              "    }\n",
              "    (() => {\n",
              "      let quickchartButtonEl =\n",
              "        document.querySelector('#df-7c2a0124-3fc2-449f-8828-9ad4b0073828 button');\n",
              "      quickchartButtonEl.style.display =\n",
              "        google.colab.kernel.accessAllowed ? 'block' : 'none';\n",
              "    })();\n",
              "  </script>\n",
              "</div>\n",
              "\n",
              "    </div>\n",
              "  </div>\n"
            ],
            "application/vnd.google.colaboratory.intrinsic+json": {
              "type": "dataframe",
              "summary": "{\n  \"name\": \"pd\",\n  \"rows\": 2,\n  \"fields\": [\n    {\n      \"column\": \"gender\",\n      \"properties\": {\n        \"dtype\": \"category\",\n        \"num_unique_values\": 2,\n        \"samples\": [\n          \"Male\",\n          \"Female\"\n        ],\n        \"semantic_type\": \"\",\n        \"description\": \"\"\n      }\n    },\n    {\n      \"column\": 1,\n      \"properties\": {\n        \"dtype\": \"number\",\n        \"std\": 2,\n        \"min\": 125,\n        \"max\": 128,\n        \"num_unique_values\": 2,\n        \"samples\": [\n          128,\n          125\n        ],\n        \"semantic_type\": \"\",\n        \"description\": \"\"\n      }\n    },\n    {\n      \"column\": 2,\n      \"properties\": {\n        \"dtype\": \"number\",\n        \"std\": 2,\n        \"min\": 120,\n        \"max\": 123,\n        \"num_unique_values\": 2,\n        \"samples\": [\n          123,\n          120\n        ],\n        \"semantic_type\": \"\",\n        \"description\": \"\"\n      }\n    },\n    {\n      \"column\": 3,\n      \"properties\": {\n        \"dtype\": \"number\",\n        \"std\": 9,\n        \"min\": 114,\n        \"max\": 127,\n        \"num_unique_values\": 2,\n        \"samples\": [\n          114,\n          127\n        ],\n        \"semantic_type\": \"\",\n        \"description\": \"\"\n      }\n    },\n    {\n      \"column\": 4,\n      \"properties\": {\n        \"dtype\": \"number\",\n        \"std\": 9,\n        \"min\": 125,\n        \"max\": 138,\n        \"num_unique_values\": 2,\n        \"samples\": [\n          125,\n          138\n        ],\n        \"semantic_type\": \"\",\n        \"description\": \"\"\n      }\n    }\n  ]\n}"
            }
          },
          "metadata": {},
          "execution_count": 37
        }
      ]
    },
    {
      "cell_type": "markdown",
      "source": [
        "- Across different product categories, the highest frequency of purchases is observed for a quantity of 4. For Beauty products, there were 73 purchases, for Clothing, 97 purchases, and for Electronics, 93 purchases. This suggests a preference for larger quantities, particularly in Clothing purchases. The quantity distribution is relatively balanced across different categories, indicating consistent buying behaviors regardless of the product type."
      ],
      "metadata": {
        "id": "ubwEuaDUt4c3"
      }
    },
    {
      "cell_type": "code",
      "source": [
        "# product_category and quantity\n",
        "pd.crosstab(df['product_category'], df['quantity'])"
      ],
      "metadata": {
        "execution": {
          "iopub.status.busy": "2024-03-05T13:49:10.660085Z",
          "iopub.execute_input": "2024-03-05T13:49:10.660636Z",
          "iopub.status.idle": "2024-03-05T13:49:10.689509Z",
          "shell.execute_reply.started": "2024-03-05T13:49:10.660591Z",
          "shell.execute_reply": "2024-03-05T13:49:10.688206Z"
        },
        "trusted": true,
        "id": "rATxejSst4c3",
        "colab": {
          "base_uri": "https://localhost:8080/",
          "height": 175
        },
        "outputId": "20954555-186d-4d87-b17a-2bcb7a6ffbc3"
      },
      "execution_count": 38,
      "outputs": [
        {
          "output_type": "execute_result",
          "data": {
            "text/plain": [
              "quantity           1   2   3   4\n",
              "product_category                \n",
              "Beauty            74  75  85  73\n",
              "Clothing          88  80  86  97\n",
              "Electronics       91  88  70  93"
            ],
            "text/html": [
              "\n",
              "  <div id=\"df-c5596866-0b23-47a3-a1a8-3bb009e33925\" class=\"colab-df-container\">\n",
              "    <div>\n",
              "<style scoped>\n",
              "    .dataframe tbody tr th:only-of-type {\n",
              "        vertical-align: middle;\n",
              "    }\n",
              "\n",
              "    .dataframe tbody tr th {\n",
              "        vertical-align: top;\n",
              "    }\n",
              "\n",
              "    .dataframe thead th {\n",
              "        text-align: right;\n",
              "    }\n",
              "</style>\n",
              "<table border=\"1\" class=\"dataframe\">\n",
              "  <thead>\n",
              "    <tr style=\"text-align: right;\">\n",
              "      <th>quantity</th>\n",
              "      <th>1</th>\n",
              "      <th>2</th>\n",
              "      <th>3</th>\n",
              "      <th>4</th>\n",
              "    </tr>\n",
              "    <tr>\n",
              "      <th>product_category</th>\n",
              "      <th></th>\n",
              "      <th></th>\n",
              "      <th></th>\n",
              "      <th></th>\n",
              "    </tr>\n",
              "  </thead>\n",
              "  <tbody>\n",
              "    <tr>\n",
              "      <th>Beauty</th>\n",
              "      <td>74</td>\n",
              "      <td>75</td>\n",
              "      <td>85</td>\n",
              "      <td>73</td>\n",
              "    </tr>\n",
              "    <tr>\n",
              "      <th>Clothing</th>\n",
              "      <td>88</td>\n",
              "      <td>80</td>\n",
              "      <td>86</td>\n",
              "      <td>97</td>\n",
              "    </tr>\n",
              "    <tr>\n",
              "      <th>Electronics</th>\n",
              "      <td>91</td>\n",
              "      <td>88</td>\n",
              "      <td>70</td>\n",
              "      <td>93</td>\n",
              "    </tr>\n",
              "  </tbody>\n",
              "</table>\n",
              "</div>\n",
              "    <div class=\"colab-df-buttons\">\n",
              "\n",
              "  <div class=\"colab-df-container\">\n",
              "    <button class=\"colab-df-convert\" onclick=\"convertToInteractive('df-c5596866-0b23-47a3-a1a8-3bb009e33925')\"\n",
              "            title=\"Convert this dataframe to an interactive table.\"\n",
              "            style=\"display:none;\">\n",
              "\n",
              "  <svg xmlns=\"http://www.w3.org/2000/svg\" height=\"24px\" viewBox=\"0 -960 960 960\">\n",
              "    <path d=\"M120-120v-720h720v720H120Zm60-500h600v-160H180v160Zm220 220h160v-160H400v160Zm0 220h160v-160H400v160ZM180-400h160v-160H180v160Zm440 0h160v-160H620v160ZM180-180h160v-160H180v160Zm440 0h160v-160H620v160Z\"/>\n",
              "  </svg>\n",
              "    </button>\n",
              "\n",
              "  <style>\n",
              "    .colab-df-container {\n",
              "      display:flex;\n",
              "      gap: 12px;\n",
              "    }\n",
              "\n",
              "    .colab-df-convert {\n",
              "      background-color: #E8F0FE;\n",
              "      border: none;\n",
              "      border-radius: 50%;\n",
              "      cursor: pointer;\n",
              "      display: none;\n",
              "      fill: #1967D2;\n",
              "      height: 32px;\n",
              "      padding: 0 0 0 0;\n",
              "      width: 32px;\n",
              "    }\n",
              "\n",
              "    .colab-df-convert:hover {\n",
              "      background-color: #E2EBFA;\n",
              "      box-shadow: 0px 1px 2px rgba(60, 64, 67, 0.3), 0px 1px 3px 1px rgba(60, 64, 67, 0.15);\n",
              "      fill: #174EA6;\n",
              "    }\n",
              "\n",
              "    .colab-df-buttons div {\n",
              "      margin-bottom: 4px;\n",
              "    }\n",
              "\n",
              "    [theme=dark] .colab-df-convert {\n",
              "      background-color: #3B4455;\n",
              "      fill: #D2E3FC;\n",
              "    }\n",
              "\n",
              "    [theme=dark] .colab-df-convert:hover {\n",
              "      background-color: #434B5C;\n",
              "      box-shadow: 0px 1px 3px 1px rgba(0, 0, 0, 0.15);\n",
              "      filter: drop-shadow(0px 1px 2px rgba(0, 0, 0, 0.3));\n",
              "      fill: #FFFFFF;\n",
              "    }\n",
              "  </style>\n",
              "\n",
              "    <script>\n",
              "      const buttonEl =\n",
              "        document.querySelector('#df-c5596866-0b23-47a3-a1a8-3bb009e33925 button.colab-df-convert');\n",
              "      buttonEl.style.display =\n",
              "        google.colab.kernel.accessAllowed ? 'block' : 'none';\n",
              "\n",
              "      async function convertToInteractive(key) {\n",
              "        const element = document.querySelector('#df-c5596866-0b23-47a3-a1a8-3bb009e33925');\n",
              "        const dataTable =\n",
              "          await google.colab.kernel.invokeFunction('convertToInteractive',\n",
              "                                                    [key], {});\n",
              "        if (!dataTable) return;\n",
              "\n",
              "        const docLinkHtml = 'Like what you see? Visit the ' +\n",
              "          '<a target=\"_blank\" href=https://colab.research.google.com/notebooks/data_table.ipynb>data table notebook</a>'\n",
              "          + ' to learn more about interactive tables.';\n",
              "        element.innerHTML = '';\n",
              "        dataTable['output_type'] = 'display_data';\n",
              "        await google.colab.output.renderOutput(dataTable, element);\n",
              "        const docLink = document.createElement('div');\n",
              "        docLink.innerHTML = docLinkHtml;\n",
              "        element.appendChild(docLink);\n",
              "      }\n",
              "    </script>\n",
              "  </div>\n",
              "\n",
              "\n",
              "<div id=\"df-2c0b9aeb-a205-4e35-89d1-392633b18233\">\n",
              "  <button class=\"colab-df-quickchart\" onclick=\"quickchart('df-2c0b9aeb-a205-4e35-89d1-392633b18233')\"\n",
              "            title=\"Suggest charts\"\n",
              "            style=\"display:none;\">\n",
              "\n",
              "<svg xmlns=\"http://www.w3.org/2000/svg\" height=\"24px\"viewBox=\"0 0 24 24\"\n",
              "     width=\"24px\">\n",
              "    <g>\n",
              "        <path d=\"M19 3H5c-1.1 0-2 .9-2 2v14c0 1.1.9 2 2 2h14c1.1 0 2-.9 2-2V5c0-1.1-.9-2-2-2zM9 17H7v-7h2v7zm4 0h-2V7h2v10zm4 0h-2v-4h2v4z\"/>\n",
              "    </g>\n",
              "</svg>\n",
              "  </button>\n",
              "\n",
              "<style>\n",
              "  .colab-df-quickchart {\n",
              "      --bg-color: #E8F0FE;\n",
              "      --fill-color: #1967D2;\n",
              "      --hover-bg-color: #E2EBFA;\n",
              "      --hover-fill-color: #174EA6;\n",
              "      --disabled-fill-color: #AAA;\n",
              "      --disabled-bg-color: #DDD;\n",
              "  }\n",
              "\n",
              "  [theme=dark] .colab-df-quickchart {\n",
              "      --bg-color: #3B4455;\n",
              "      --fill-color: #D2E3FC;\n",
              "      --hover-bg-color: #434B5C;\n",
              "      --hover-fill-color: #FFFFFF;\n",
              "      --disabled-bg-color: #3B4455;\n",
              "      --disabled-fill-color: #666;\n",
              "  }\n",
              "\n",
              "  .colab-df-quickchart {\n",
              "    background-color: var(--bg-color);\n",
              "    border: none;\n",
              "    border-radius: 50%;\n",
              "    cursor: pointer;\n",
              "    display: none;\n",
              "    fill: var(--fill-color);\n",
              "    height: 32px;\n",
              "    padding: 0;\n",
              "    width: 32px;\n",
              "  }\n",
              "\n",
              "  .colab-df-quickchart:hover {\n",
              "    background-color: var(--hover-bg-color);\n",
              "    box-shadow: 0 1px 2px rgba(60, 64, 67, 0.3), 0 1px 3px 1px rgba(60, 64, 67, 0.15);\n",
              "    fill: var(--button-hover-fill-color);\n",
              "  }\n",
              "\n",
              "  .colab-df-quickchart-complete:disabled,\n",
              "  .colab-df-quickchart-complete:disabled:hover {\n",
              "    background-color: var(--disabled-bg-color);\n",
              "    fill: var(--disabled-fill-color);\n",
              "    box-shadow: none;\n",
              "  }\n",
              "\n",
              "  .colab-df-spinner {\n",
              "    border: 2px solid var(--fill-color);\n",
              "    border-color: transparent;\n",
              "    border-bottom-color: var(--fill-color);\n",
              "    animation:\n",
              "      spin 1s steps(1) infinite;\n",
              "  }\n",
              "\n",
              "  @keyframes spin {\n",
              "    0% {\n",
              "      border-color: transparent;\n",
              "      border-bottom-color: var(--fill-color);\n",
              "      border-left-color: var(--fill-color);\n",
              "    }\n",
              "    20% {\n",
              "      border-color: transparent;\n",
              "      border-left-color: var(--fill-color);\n",
              "      border-top-color: var(--fill-color);\n",
              "    }\n",
              "    30% {\n",
              "      border-color: transparent;\n",
              "      border-left-color: var(--fill-color);\n",
              "      border-top-color: var(--fill-color);\n",
              "      border-right-color: var(--fill-color);\n",
              "    }\n",
              "    40% {\n",
              "      border-color: transparent;\n",
              "      border-right-color: var(--fill-color);\n",
              "      border-top-color: var(--fill-color);\n",
              "    }\n",
              "    60% {\n",
              "      border-color: transparent;\n",
              "      border-right-color: var(--fill-color);\n",
              "    }\n",
              "    80% {\n",
              "      border-color: transparent;\n",
              "      border-right-color: var(--fill-color);\n",
              "      border-bottom-color: var(--fill-color);\n",
              "    }\n",
              "    90% {\n",
              "      border-color: transparent;\n",
              "      border-bottom-color: var(--fill-color);\n",
              "    }\n",
              "  }\n",
              "</style>\n",
              "\n",
              "  <script>\n",
              "    async function quickchart(key) {\n",
              "      const quickchartButtonEl =\n",
              "        document.querySelector('#' + key + ' button');\n",
              "      quickchartButtonEl.disabled = true;  // To prevent multiple clicks.\n",
              "      quickchartButtonEl.classList.add('colab-df-spinner');\n",
              "      try {\n",
              "        const charts = await google.colab.kernel.invokeFunction(\n",
              "            'suggestCharts', [key], {});\n",
              "      } catch (error) {\n",
              "        console.error('Error during call to suggestCharts:', error);\n",
              "      }\n",
              "      quickchartButtonEl.classList.remove('colab-df-spinner');\n",
              "      quickchartButtonEl.classList.add('colab-df-quickchart-complete');\n",
              "    }\n",
              "    (() => {\n",
              "      let quickchartButtonEl =\n",
              "        document.querySelector('#df-2c0b9aeb-a205-4e35-89d1-392633b18233 button');\n",
              "      quickchartButtonEl.style.display =\n",
              "        google.colab.kernel.accessAllowed ? 'block' : 'none';\n",
              "    })();\n",
              "  </script>\n",
              "</div>\n",
              "\n",
              "    </div>\n",
              "  </div>\n"
            ],
            "application/vnd.google.colaboratory.intrinsic+json": {
              "type": "dataframe",
              "summary": "{\n  \"name\": \"pd\",\n  \"rows\": 3,\n  \"fields\": [\n    {\n      \"column\": \"product_category\",\n      \"properties\": {\n        \"dtype\": \"category\",\n        \"num_unique_values\": 3,\n        \"samples\": [\n          \"Beauty\",\n          \"Clothing\",\n          \"Electronics\"\n        ],\n        \"semantic_type\": \"\",\n        \"description\": \"\"\n      }\n    },\n    {\n      \"column\": 1,\n      \"properties\": {\n        \"dtype\": \"number\",\n        \"std\": 9,\n        \"min\": 74,\n        \"max\": 91,\n        \"num_unique_values\": 3,\n        \"samples\": [\n          74,\n          88,\n          91\n        ],\n        \"semantic_type\": \"\",\n        \"description\": \"\"\n      }\n    },\n    {\n      \"column\": 2,\n      \"properties\": {\n        \"dtype\": \"number\",\n        \"std\": 6,\n        \"min\": 75,\n        \"max\": 88,\n        \"num_unique_values\": 3,\n        \"samples\": [\n          75,\n          80,\n          88\n        ],\n        \"semantic_type\": \"\",\n        \"description\": \"\"\n      }\n    },\n    {\n      \"column\": 3,\n      \"properties\": {\n        \"dtype\": \"number\",\n        \"std\": 8,\n        \"min\": 70,\n        \"max\": 86,\n        \"num_unique_values\": 3,\n        \"samples\": [\n          85,\n          86,\n          70\n        ],\n        \"semantic_type\": \"\",\n        \"description\": \"\"\n      }\n    },\n    {\n      \"column\": 4,\n      \"properties\": {\n        \"dtype\": \"number\",\n        \"std\": 12,\n        \"min\": 73,\n        \"max\": 97,\n        \"num_unique_values\": 3,\n        \"samples\": [\n          73,\n          97,\n          93\n        ],\n        \"semantic_type\": \"\",\n        \"description\": \"\"\n      }\n    }\n  ]\n}"
            }
          },
          "metadata": {},
          "execution_count": 38
        }
      ]
    },
    {
      "cell_type": "markdown",
      "source": [
        "- both genders exhibit varied purchasing patterns across different price per unit categories. Females show higher purchases in the price ranges of 50 and 300, with 98 and 106 purchases respectively. Meanwhile, males show a slightly higher preference for the price range of 50 with 113 purchases. Additionally, both genders show comparable purchase frequencies in the price ranges of 25 and 500."
      ],
      "metadata": {
        "id": "X5l0dluwt4c4"
      }
    },
    {
      "cell_type": "code",
      "source": [
        "pd.crosstab(df['gender'], df['price_per_unit'])"
      ],
      "metadata": {
        "execution": {
          "iopub.status.busy": "2024-03-05T13:49:10.69123Z",
          "iopub.execute_input": "2024-03-05T13:49:10.691588Z",
          "iopub.status.idle": "2024-03-05T13:49:10.716752Z",
          "shell.execute_reply.started": "2024-03-05T13:49:10.691557Z",
          "shell.execute_reply": "2024-03-05T13:49:10.715369Z"
        },
        "trusted": true,
        "id": "ksKtkGPht4c4",
        "colab": {
          "base_uri": "https://localhost:8080/",
          "height": 143
        },
        "outputId": "03ce6956-f268-4d92-f5a2-c6fd7668359c"
      },
      "execution_count": 39,
      "outputs": [
        {
          "output_type": "execute_result",
          "data": {
            "text/plain": [
              "price_per_unit  25   30   50   300  500\n",
              "gender                                 \n",
              "Female          115   92   98  106   99\n",
              "Male             95   91  113   91  100"
            ],
            "text/html": [
              "\n",
              "  <div id=\"df-43a3fa1c-0640-4d20-8037-01c9b18f4abc\" class=\"colab-df-container\">\n",
              "    <div>\n",
              "<style scoped>\n",
              "    .dataframe tbody tr th:only-of-type {\n",
              "        vertical-align: middle;\n",
              "    }\n",
              "\n",
              "    .dataframe tbody tr th {\n",
              "        vertical-align: top;\n",
              "    }\n",
              "\n",
              "    .dataframe thead th {\n",
              "        text-align: right;\n",
              "    }\n",
              "</style>\n",
              "<table border=\"1\" class=\"dataframe\">\n",
              "  <thead>\n",
              "    <tr style=\"text-align: right;\">\n",
              "      <th>price_per_unit</th>\n",
              "      <th>25</th>\n",
              "      <th>30</th>\n",
              "      <th>50</th>\n",
              "      <th>300</th>\n",
              "      <th>500</th>\n",
              "    </tr>\n",
              "    <tr>\n",
              "      <th>gender</th>\n",
              "      <th></th>\n",
              "      <th></th>\n",
              "      <th></th>\n",
              "      <th></th>\n",
              "      <th></th>\n",
              "    </tr>\n",
              "  </thead>\n",
              "  <tbody>\n",
              "    <tr>\n",
              "      <th>Female</th>\n",
              "      <td>115</td>\n",
              "      <td>92</td>\n",
              "      <td>98</td>\n",
              "      <td>106</td>\n",
              "      <td>99</td>\n",
              "    </tr>\n",
              "    <tr>\n",
              "      <th>Male</th>\n",
              "      <td>95</td>\n",
              "      <td>91</td>\n",
              "      <td>113</td>\n",
              "      <td>91</td>\n",
              "      <td>100</td>\n",
              "    </tr>\n",
              "  </tbody>\n",
              "</table>\n",
              "</div>\n",
              "    <div class=\"colab-df-buttons\">\n",
              "\n",
              "  <div class=\"colab-df-container\">\n",
              "    <button class=\"colab-df-convert\" onclick=\"convertToInteractive('df-43a3fa1c-0640-4d20-8037-01c9b18f4abc')\"\n",
              "            title=\"Convert this dataframe to an interactive table.\"\n",
              "            style=\"display:none;\">\n",
              "\n",
              "  <svg xmlns=\"http://www.w3.org/2000/svg\" height=\"24px\" viewBox=\"0 -960 960 960\">\n",
              "    <path d=\"M120-120v-720h720v720H120Zm60-500h600v-160H180v160Zm220 220h160v-160H400v160Zm0 220h160v-160H400v160ZM180-400h160v-160H180v160Zm440 0h160v-160H620v160ZM180-180h160v-160H180v160Zm440 0h160v-160H620v160Z\"/>\n",
              "  </svg>\n",
              "    </button>\n",
              "\n",
              "  <style>\n",
              "    .colab-df-container {\n",
              "      display:flex;\n",
              "      gap: 12px;\n",
              "    }\n",
              "\n",
              "    .colab-df-convert {\n",
              "      background-color: #E8F0FE;\n",
              "      border: none;\n",
              "      border-radius: 50%;\n",
              "      cursor: pointer;\n",
              "      display: none;\n",
              "      fill: #1967D2;\n",
              "      height: 32px;\n",
              "      padding: 0 0 0 0;\n",
              "      width: 32px;\n",
              "    }\n",
              "\n",
              "    .colab-df-convert:hover {\n",
              "      background-color: #E2EBFA;\n",
              "      box-shadow: 0px 1px 2px rgba(60, 64, 67, 0.3), 0px 1px 3px 1px rgba(60, 64, 67, 0.15);\n",
              "      fill: #174EA6;\n",
              "    }\n",
              "\n",
              "    .colab-df-buttons div {\n",
              "      margin-bottom: 4px;\n",
              "    }\n",
              "\n",
              "    [theme=dark] .colab-df-convert {\n",
              "      background-color: #3B4455;\n",
              "      fill: #D2E3FC;\n",
              "    }\n",
              "\n",
              "    [theme=dark] .colab-df-convert:hover {\n",
              "      background-color: #434B5C;\n",
              "      box-shadow: 0px 1px 3px 1px rgba(0, 0, 0, 0.15);\n",
              "      filter: drop-shadow(0px 1px 2px rgba(0, 0, 0, 0.3));\n",
              "      fill: #FFFFFF;\n",
              "    }\n",
              "  </style>\n",
              "\n",
              "    <script>\n",
              "      const buttonEl =\n",
              "        document.querySelector('#df-43a3fa1c-0640-4d20-8037-01c9b18f4abc button.colab-df-convert');\n",
              "      buttonEl.style.display =\n",
              "        google.colab.kernel.accessAllowed ? 'block' : 'none';\n",
              "\n",
              "      async function convertToInteractive(key) {\n",
              "        const element = document.querySelector('#df-43a3fa1c-0640-4d20-8037-01c9b18f4abc');\n",
              "        const dataTable =\n",
              "          await google.colab.kernel.invokeFunction('convertToInteractive',\n",
              "                                                    [key], {});\n",
              "        if (!dataTable) return;\n",
              "\n",
              "        const docLinkHtml = 'Like what you see? Visit the ' +\n",
              "          '<a target=\"_blank\" href=https://colab.research.google.com/notebooks/data_table.ipynb>data table notebook</a>'\n",
              "          + ' to learn more about interactive tables.';\n",
              "        element.innerHTML = '';\n",
              "        dataTable['output_type'] = 'display_data';\n",
              "        await google.colab.output.renderOutput(dataTable, element);\n",
              "        const docLink = document.createElement('div');\n",
              "        docLink.innerHTML = docLinkHtml;\n",
              "        element.appendChild(docLink);\n",
              "      }\n",
              "    </script>\n",
              "  </div>\n",
              "\n",
              "\n",
              "<div id=\"df-91fa88c6-d7ea-4d76-8344-434274620e52\">\n",
              "  <button class=\"colab-df-quickchart\" onclick=\"quickchart('df-91fa88c6-d7ea-4d76-8344-434274620e52')\"\n",
              "            title=\"Suggest charts\"\n",
              "            style=\"display:none;\">\n",
              "\n",
              "<svg xmlns=\"http://www.w3.org/2000/svg\" height=\"24px\"viewBox=\"0 0 24 24\"\n",
              "     width=\"24px\">\n",
              "    <g>\n",
              "        <path d=\"M19 3H5c-1.1 0-2 .9-2 2v14c0 1.1.9 2 2 2h14c1.1 0 2-.9 2-2V5c0-1.1-.9-2-2-2zM9 17H7v-7h2v7zm4 0h-2V7h2v10zm4 0h-2v-4h2v4z\"/>\n",
              "    </g>\n",
              "</svg>\n",
              "  </button>\n",
              "\n",
              "<style>\n",
              "  .colab-df-quickchart {\n",
              "      --bg-color: #E8F0FE;\n",
              "      --fill-color: #1967D2;\n",
              "      --hover-bg-color: #E2EBFA;\n",
              "      --hover-fill-color: #174EA6;\n",
              "      --disabled-fill-color: #AAA;\n",
              "      --disabled-bg-color: #DDD;\n",
              "  }\n",
              "\n",
              "  [theme=dark] .colab-df-quickchart {\n",
              "      --bg-color: #3B4455;\n",
              "      --fill-color: #D2E3FC;\n",
              "      --hover-bg-color: #434B5C;\n",
              "      --hover-fill-color: #FFFFFF;\n",
              "      --disabled-bg-color: #3B4455;\n",
              "      --disabled-fill-color: #666;\n",
              "  }\n",
              "\n",
              "  .colab-df-quickchart {\n",
              "    background-color: var(--bg-color);\n",
              "    border: none;\n",
              "    border-radius: 50%;\n",
              "    cursor: pointer;\n",
              "    display: none;\n",
              "    fill: var(--fill-color);\n",
              "    height: 32px;\n",
              "    padding: 0;\n",
              "    width: 32px;\n",
              "  }\n",
              "\n",
              "  .colab-df-quickchart:hover {\n",
              "    background-color: var(--hover-bg-color);\n",
              "    box-shadow: 0 1px 2px rgba(60, 64, 67, 0.3), 0 1px 3px 1px rgba(60, 64, 67, 0.15);\n",
              "    fill: var(--button-hover-fill-color);\n",
              "  }\n",
              "\n",
              "  .colab-df-quickchart-complete:disabled,\n",
              "  .colab-df-quickchart-complete:disabled:hover {\n",
              "    background-color: var(--disabled-bg-color);\n",
              "    fill: var(--disabled-fill-color);\n",
              "    box-shadow: none;\n",
              "  }\n",
              "\n",
              "  .colab-df-spinner {\n",
              "    border: 2px solid var(--fill-color);\n",
              "    border-color: transparent;\n",
              "    border-bottom-color: var(--fill-color);\n",
              "    animation:\n",
              "      spin 1s steps(1) infinite;\n",
              "  }\n",
              "\n",
              "  @keyframes spin {\n",
              "    0% {\n",
              "      border-color: transparent;\n",
              "      border-bottom-color: var(--fill-color);\n",
              "      border-left-color: var(--fill-color);\n",
              "    }\n",
              "    20% {\n",
              "      border-color: transparent;\n",
              "      border-left-color: var(--fill-color);\n",
              "      border-top-color: var(--fill-color);\n",
              "    }\n",
              "    30% {\n",
              "      border-color: transparent;\n",
              "      border-left-color: var(--fill-color);\n",
              "      border-top-color: var(--fill-color);\n",
              "      border-right-color: var(--fill-color);\n",
              "    }\n",
              "    40% {\n",
              "      border-color: transparent;\n",
              "      border-right-color: var(--fill-color);\n",
              "      border-top-color: var(--fill-color);\n",
              "    }\n",
              "    60% {\n",
              "      border-color: transparent;\n",
              "      border-right-color: var(--fill-color);\n",
              "    }\n",
              "    80% {\n",
              "      border-color: transparent;\n",
              "      border-right-color: var(--fill-color);\n",
              "      border-bottom-color: var(--fill-color);\n",
              "    }\n",
              "    90% {\n",
              "      border-color: transparent;\n",
              "      border-bottom-color: var(--fill-color);\n",
              "    }\n",
              "  }\n",
              "</style>\n",
              "\n",
              "  <script>\n",
              "    async function quickchart(key) {\n",
              "      const quickchartButtonEl =\n",
              "        document.querySelector('#' + key + ' button');\n",
              "      quickchartButtonEl.disabled = true;  // To prevent multiple clicks.\n",
              "      quickchartButtonEl.classList.add('colab-df-spinner');\n",
              "      try {\n",
              "        const charts = await google.colab.kernel.invokeFunction(\n",
              "            'suggestCharts', [key], {});\n",
              "      } catch (error) {\n",
              "        console.error('Error during call to suggestCharts:', error);\n",
              "      }\n",
              "      quickchartButtonEl.classList.remove('colab-df-spinner');\n",
              "      quickchartButtonEl.classList.add('colab-df-quickchart-complete');\n",
              "    }\n",
              "    (() => {\n",
              "      let quickchartButtonEl =\n",
              "        document.querySelector('#df-91fa88c6-d7ea-4d76-8344-434274620e52 button');\n",
              "      quickchartButtonEl.style.display =\n",
              "        google.colab.kernel.accessAllowed ? 'block' : 'none';\n",
              "    })();\n",
              "  </script>\n",
              "</div>\n",
              "\n",
              "    </div>\n",
              "  </div>\n"
            ],
            "application/vnd.google.colaboratory.intrinsic+json": {
              "type": "dataframe",
              "summary": "{\n  \"name\": \"pd\",\n  \"rows\": 2,\n  \"fields\": [\n    {\n      \"column\": \"gender\",\n      \"properties\": {\n        \"dtype\": \"category\",\n        \"num_unique_values\": 2,\n        \"samples\": [\n          \"Male\",\n          \"Female\"\n        ],\n        \"semantic_type\": \"\",\n        \"description\": \"\"\n      }\n    },\n    {\n      \"column\": 25,\n      \"properties\": {\n        \"dtype\": \"number\",\n        \"std\": 14,\n        \"min\": 95,\n        \"max\": 115,\n        \"num_unique_values\": 2,\n        \"samples\": [\n          95,\n          115\n        ],\n        \"semantic_type\": \"\",\n        \"description\": \"\"\n      }\n    },\n    {\n      \"column\": 30,\n      \"properties\": {\n        \"dtype\": \"number\",\n        \"std\": 0,\n        \"min\": 91,\n        \"max\": 92,\n        \"num_unique_values\": 2,\n        \"samples\": [\n          91,\n          92\n        ],\n        \"semantic_type\": \"\",\n        \"description\": \"\"\n      }\n    },\n    {\n      \"column\": 50,\n      \"properties\": {\n        \"dtype\": \"number\",\n        \"std\": 10,\n        \"min\": 98,\n        \"max\": 113,\n        \"num_unique_values\": 2,\n        \"samples\": [\n          113,\n          98\n        ],\n        \"semantic_type\": \"\",\n        \"description\": \"\"\n      }\n    },\n    {\n      \"column\": 300,\n      \"properties\": {\n        \"dtype\": \"number\",\n        \"std\": 10,\n        \"min\": 91,\n        \"max\": 106,\n        \"num_unique_values\": 2,\n        \"samples\": [\n          91,\n          106\n        ],\n        \"semantic_type\": \"\",\n        \"description\": \"\"\n      }\n    },\n    {\n      \"column\": 500,\n      \"properties\": {\n        \"dtype\": \"number\",\n        \"std\": 0,\n        \"min\": 99,\n        \"max\": 100,\n        \"num_unique_values\": 2,\n        \"samples\": [\n          100,\n          99\n        ],\n        \"semantic_type\": \"\",\n        \"description\": \"\"\n      }\n    }\n  ]\n}"
            }
          },
          "metadata": {},
          "execution_count": 39
        }
      ]
    },
    {
      "cell_type": "markdown",
      "source": [
        "Numerical vs Categorical"
      ],
      "metadata": {
        "id": "0tPCQHOpt4c4"
      }
    },
    {
      "cell_type": "code",
      "source": [
        "sns.boxplot(tem_df, x='gender', y='total_amount')"
      ],
      "metadata": {
        "execution": {
          "iopub.status.busy": "2024-03-05T13:49:10.718388Z",
          "iopub.execute_input": "2024-03-05T13:49:10.718823Z",
          "iopub.status.idle": "2024-03-05T13:49:10.992807Z",
          "shell.execute_reply.started": "2024-03-05T13:49:10.718793Z",
          "shell.execute_reply": "2024-03-05T13:49:10.991684Z"
        },
        "trusted": true,
        "id": "L1afNHJft4c4",
        "colab": {
          "base_uri": "https://localhost:8080/",
          "height": 466
        },
        "outputId": "0a6994e7-116d-45dd-d340-b450d1a4ce3e"
      },
      "execution_count": 40,
      "outputs": [
        {
          "output_type": "execute_result",
          "data": {
            "text/plain": [
              "<Axes: xlabel='gender', ylabel='total_amount'>"
            ]
          },
          "metadata": {},
          "execution_count": 40
        },
        {
          "output_type": "display_data",
          "data": {
            "text/plain": [
              "<Figure size 640x480 with 1 Axes>"
            ],
            "image/png": "[encoded data removed]"
          },
          "metadata": {}
        }
      ]
    },
    {
      "cell_type": "markdown",
      "source": [
        "- some outliers have in Clothing category"
      ],
      "metadata": {
        "id": "pWy_U6eYt4c4"
      }
    },
    {
      "cell_type": "code",
      "source": [
        "sns.boxplot(tem_df, x='product_category', y='total_amount')"
      ],
      "metadata": {
        "execution": {
          "iopub.status.busy": "2024-03-05T13:49:10.994309Z",
          "iopub.execute_input": "2024-03-05T13:49:10.99548Z",
          "iopub.status.idle": "2024-03-05T13:49:11.314998Z",
          "shell.execute_reply.started": "2024-03-05T13:49:10.995429Z",
          "shell.execute_reply": "2024-03-05T13:49:11.313673Z"
        },
        "trusted": true,
        "id": "R_3IR9I-t4c4",
        "colab": {
          "base_uri": "https://localhost:8080/",
          "height": 467
        },
        "outputId": "72d63b15-36dc-4988-c6bc-3431fd738798"
      },
      "execution_count": 41,
      "outputs": [
        {
          "output_type": "execute_result",
          "data": {
            "text/plain": [
              "<Axes: xlabel='product_category', ylabel='total_amount'>"
            ]
          },
          "metadata": {},
          "execution_count": 41
        },
        {
          "output_type": "display_data",
          "data": {
            "text/plain": [
              "<Figure size 640x480 with 1 Axes>"
            ],
            "image/png": "[encoded data removed]"
          },
          "metadata": {}
        }
      ]
    },
    {
      "cell_type": "code",
      "source": [
        "sns.boxplot(tem_df, x='price_per_unit', y='total_amount')"
      ],
      "metadata": {
        "execution": {
          "iopub.status.busy": "2024-03-05T13:49:11.316456Z",
          "iopub.execute_input": "2024-03-05T13:49:11.316829Z",
          "iopub.status.idle": "2024-03-05T13:49:11.651995Z",
          "shell.execute_reply.started": "2024-03-05T13:49:11.316798Z",
          "shell.execute_reply": "2024-03-05T13:49:11.650503Z"
        },
        "trusted": true,
        "id": "-zOY274Jt4c5",
        "colab": {
          "base_uri": "https://localhost:8080/",
          "height": 467
        },
        "outputId": "2596e0df-63de-4cda-86d9-d3026547be3c"
      },
      "execution_count": 42,
      "outputs": [
        {
          "output_type": "execute_result",
          "data": {
            "text/plain": [
              "<Axes: xlabel='price_per_unit', ylabel='total_amount'>"
            ]
          },
          "metadata": {},
          "execution_count": 42
        },
        {
          "output_type": "display_data",
          "data": {
            "text/plain": [
              "<Figure size 640x480 with 1 Axes>"
            ],
            "image/png": "[encoded data removed]"
          },
          "metadata": {}
        }
      ]
    },
    {
      "cell_type": "code",
      "source": [
        "sns.boxplot(tem_df, x='quantity', y='total_amount')"
      ],
      "metadata": {
        "execution": {
          "iopub.status.busy": "2024-03-05T13:49:11.654622Z",
          "iopub.execute_input": "2024-03-05T13:49:11.655054Z",
          "iopub.status.idle": "2024-03-05T13:49:11.980686Z",
          "shell.execute_reply.started": "2024-03-05T13:49:11.655015Z",
          "shell.execute_reply": "2024-03-05T13:49:11.979381Z"
        },
        "trusted": true,
        "id": "YZ3xm9Drt4c5",
        "colab": {
          "base_uri": "https://localhost:8080/",
          "height": 466
        },
        "outputId": "d60980d9-a270-4a5e-fd98-ed9bb447e5a8"
      },
      "execution_count": 43,
      "outputs": [
        {
          "output_type": "execute_result",
          "data": {
            "text/plain": [
              "<Axes: xlabel='quantity', ylabel='total_amount'>"
            ]
          },
          "metadata": {},
          "execution_count": 43
        },
        {
          "output_type": "display_data",
          "data": {
            "text/plain": [
              "<Figure size 640x480 with 1 Axes>"
            ],
            "image/png": "[encoded data removed]"
          },
          "metadata": {}
        }
      ]
    },
    {
      "cell_type": "markdown",
      "source": [
        "# Multivariate Analysis"
      ],
      "metadata": {
        "id": "Trna_jHVt4c5"
      }
    },
    {
      "cell_type": "code",
      "source": [
        "sns.boxplot(tem_df, x='product_category', y='total_amount', hue='gender')"
      ],
      "metadata": {
        "execution": {
          "iopub.status.busy": "2024-03-05T13:49:11.982354Z",
          "iopub.execute_input": "2024-03-05T13:49:11.982791Z",
          "iopub.status.idle": "2024-03-05T13:49:12.568421Z",
          "shell.execute_reply.started": "2024-03-05T13:49:11.982758Z",
          "shell.execute_reply": "2024-03-05T13:49:12.567541Z"
        },
        "trusted": true,
        "id": "OdknNg_mt4c5",
        "colab": {
          "base_uri": "https://localhost:8080/",
          "height": 467
        },
        "outputId": "5fea1cc4-9afb-4c0e-c147-59af3ef598c7"
      },
      "execution_count": 44,
      "outputs": [
        {
          "output_type": "execute_result",
          "data": {
            "text/plain": [
              "<Axes: xlabel='product_category', ylabel='total_amount'>"
            ]
          },
          "metadata": {},
          "execution_count": 44
        },
        {
          "output_type": "display_data",
          "data": {
            "text/plain": [
              "<Figure size 640x480 with 1 Axes>"
            ],
            "image/png": "[encoded data removed]"
          },
          "metadata": {}
        }
      ]
    },
    {
      "cell_type": "code",
      "source": [
        "sns.boxplot(tem_df, x='price_per_unit', y='total_amount', hue='gender')"
      ],
      "metadata": {
        "execution": {
          "iopub.status.busy": "2024-03-05T13:49:12.569822Z",
          "iopub.execute_input": "2024-03-05T13:49:12.570862Z",
          "iopub.status.idle": "2024-03-05T13:49:13.070329Z",
          "shell.execute_reply.started": "2024-03-05T13:49:12.570831Z",
          "shell.execute_reply": "2024-03-05T13:49:13.069084Z"
        },
        "trusted": true,
        "id": "ZZvbynUxt4c5",
        "colab": {
          "base_uri": "https://localhost:8080/",
          "height": 467
        },
        "outputId": "b0769759-f085-4fac-f8b8-c05fbbc0aae5"
      },
      "execution_count": 45,
      "outputs": [
        {
          "output_type": "execute_result",
          "data": {
            "text/plain": [
              "<Axes: xlabel='price_per_unit', ylabel='total_amount'>"
            ]
          },
          "metadata": {},
          "execution_count": 45
        },
        {
          "output_type": "display_data",
          "data": {
            "text/plain": [
              "<Figure size 640x480 with 1 Axes>"
            ],
            "image/png": "[encoded data removed]"
          },
          "metadata": {}
        }
      ]
    },
    {
      "cell_type": "code",
      "source": [
        "tem_df.groupby(['price_per_unit','gender'])['total_amount'].describe()"
      ],
      "metadata": {
        "execution": {
          "iopub.status.busy": "2024-03-05T14:12:03.890376Z",
          "iopub.execute_input": "2024-03-05T14:12:03.890914Z",
          "iopub.status.idle": "2024-03-05T14:12:03.949842Z",
          "shell.execute_reply.started": "2024-03-05T14:12:03.890861Z",
          "shell.execute_reply": "2024-03-05T14:12:03.948732Z"
        },
        "trusted": true,
        "id": "hRMiFWyxt4c5",
        "colab": {
          "base_uri": "https://localhost:8080/",
          "height": 394
        },
        "outputId": "2d7d06f6-1e04-48e6-85c8-2604c2d0c8b7"
      },
      "execution_count": 46,
      "outputs": [
        {
          "output_type": "execute_result",
          "data": {
            "text/plain": [
              "                       count         mean         std    min     25%     50%  \\\n",
              "price_per_unit gender                                                          \n",
              "25             Female  115.0    63.043478   28.165361   25.0    50.0    50.0   \n",
              "               Male     95.0    61.052632   28.179655   25.0    37.5    50.0   \n",
              "30             Female   92.0    74.347826   33.718432   30.0    30.0    75.0   \n",
              "               Male     91.0    71.538462   34.283883   30.0    30.0    60.0   \n",
              "50             Female   98.0   131.122449   58.992969   50.0   100.0   150.0   \n",
              "               Male    113.0   122.566372   57.473266   50.0    50.0   100.0   \n",
              "300            Female  106.0   786.792453  340.049148  300.0   600.0   900.0   \n",
              "               Male     91.0   791.208791  333.216097  300.0   600.0   900.0   \n",
              "500            Female   99.0  1237.373737  554.864547  500.0  1000.0  1000.0   \n",
              "               Male    100.0  1250.000000  570.751764  500.0   500.0  1500.0   \n",
              "\n",
              "                          75%     max  \n",
              "price_per_unit gender                  \n",
              "25             Female   100.0   100.0  \n",
              "               Male      87.5   100.0  \n",
              "30             Female    90.0   120.0  \n",
              "               Male      90.0   120.0  \n",
              "50             Female   200.0   200.0  \n",
              "               Male     200.0   200.0  \n",
              "300            Female  1200.0  1200.0  \n",
              "               Male    1200.0  1200.0  \n",
              "500            Female  1500.0  2000.0  \n",
              "               Male    1625.0  2000.0  "
            ],
            "text/html": [
              "\n",
              "  <div id=\"df-b6ff7dfa-db3a-42a3-93e7-489f6f5bd65e\" class=\"colab-df-container\">\n",
              "    <div>\n",
              "<style scoped>\n",
              "    .dataframe tbody tr th:only-of-type {\n",
              "        vertical-align: middle;\n",
              "    }\n",
              "\n",
              "    .dataframe tbody tr th {\n",
              "        vertical-align: top;\n",
              "    }\n",
              "\n",
              "    .dataframe thead th {\n",
              "        text-align: right;\n",
              "    }\n",
              "</style>\n",
              "<table border=\"1\" class=\"dataframe\">\n",
              "  <thead>\n",
              "    <tr style=\"text-align: right;\">\n",
              "      <th></th>\n",
              "      <th></th>\n",
              "      <th>count</th>\n",
              "      <th>mean</th>\n",
              "      <th>std</th>\n",
              "      <th>min</th>\n",
              "      <th>25%</th>\n",
              "      <th>50%</th>\n",
              "      <th>75%</th>\n",
              "      <th>max</th>\n",
              "    </tr>\n",
              "    <tr>\n",
              "      <th>price_per_unit</th>\n",
              "      <th>gender</th>\n",
              "      <th></th>\n",
              "      <th></th>\n",
              "      <th></th>\n",
              "      <th></th>\n",
              "      <th></th>\n",
              "      <th></th>\n",
              "      <th></th>\n",
              "      <th></th>\n",
              "    </tr>\n",
              "  </thead>\n",
              "  <tbody>\n",
              "    <tr>\n",
              "      <th rowspan=\"2\" valign=\"top\">25</th>\n",
              "      <th>Female</th>\n",
              "      <td>115.0</td>\n",
              "      <td>63.043478</td>\n",
              "      <td>28.165361</td>\n",
              "      <td>25.0</td>\n",
              "      <td>50.0</td>\n",
              "      <td>50.0</td>\n",
              "      <td>100.0</td>\n",
              "      <td>100.0</td>\n",
              "    </tr>\n",
              "    <tr>\n",
              "      <th>Male</th>\n",
              "      <td>95.0</td>\n",
              "      <td>61.052632</td>\n",
              "      <td>28.179655</td>\n",
              "      <td>25.0</td>\n",
              "      <td>37.5</td>\n",
              "      <td>50.0</td>\n",
              "      <td>87.5</td>\n",
              "      <td>100.0</td>\n",
              "    </tr>\n",
              "    <tr>\n",
              "      <th rowspan=\"2\" valign=\"top\">30</th>\n",
              "      <th>Female</th>\n",
              "      <td>92.0</td>\n",
              "      <td>74.347826</td>\n",
              "      <td>33.718432</td>\n",
              "      <td>30.0</td>\n",
              "      <td>30.0</td>\n",
              "      <td>75.0</td>\n",
              "      <td>90.0</td>\n",
              "      <td>120.0</td>\n",
              "    </tr>\n",
              "    <tr>\n",
              "      <th>Male</th>\n",
              "      <td>91.0</td>\n",
              "      <td>71.538462</td>\n",
              "      <td>34.283883</td>\n",
              "      <td>30.0</td>\n",
              "      <td>30.0</td>\n",
              "      <td>60.0</td>\n",
              "      <td>90.0</td>\n",
              "      <td>120.0</td>\n",
              "    </tr>\n",
              "    <tr>\n",
              "      <th rowspan=\"2\" valign=\"top\">50</th>\n",
              "      <th>Female</th>\n",
              "      <td>98.0</td>\n",
              "      <td>131.122449</td>\n",
              "      <td>58.992969</td>\n",
              "      <td>50.0</td>\n",
              "      <td>100.0</td>\n",
              "      <td>150.0</td>\n",
              "      <td>200.0</td>\n",
              "      <td>200.0</td>\n",
              "    </tr>\n",
              "    <tr>\n",
              "      <th>Male</th>\n",
              "      <td>113.0</td>\n",
              "      <td>122.566372</td>\n",
              "      <td>57.473266</td>\n",
              "      <td>50.0</td>\n",
              "      <td>50.0</td>\n",
              "      <td>100.0</td>\n",
              "      <td>200.0</td>\n",
              "      <td>200.0</td>\n",
              "    </tr>\n",
              "    <tr>\n",
              "      <th rowspan=\"2\" valign=\"top\">300</th>\n",
              "      <th>Female</th>\n",
              "      <td>106.0</td>\n",
              "      <td>786.792453</td>\n",
              "      <td>340.049148</td>\n",
              "      <td>300.0</td>\n",
              "      <td>600.0</td>\n",
              "      <td>900.0</td>\n",
              "      <td>1200.0</td>\n",
              "      <td>1200.0</td>\n",
              "    </tr>\n",
              "    <tr>\n",
              "      <th>Male</th>\n",
              "      <td>91.0</td>\n",
              "      <td>791.208791</td>\n",
              "      <td>333.216097</td>\n",
              "      <td>300.0</td>\n",
              "      <td>600.0</td>\n",
              "      <td>900.0</td>\n",
              "      <td>1200.0</td>\n",
              "      <td>1200.0</td>\n",
              "    </tr>\n",
              "    <tr>\n",
              "      <th rowspan=\"2\" valign=\"top\">500</th>\n",
              "      <th>Female</th>\n",
              "      <td>99.0</td>\n",
              "      <td>1237.373737</td>\n",
              "      <td>554.864547</td>\n",
              "      <td>500.0</td>\n",
              "      <td>1000.0</td>\n",
              "      <td>1000.0</td>\n",
              "      <td>1500.0</td>\n",
              "      <td>2000.0</td>\n",
              "    </tr>\n",
              "    <tr>\n",
              "      <th>Male</th>\n",
              "      <td>100.0</td>\n",
              "      <td>1250.000000</td>\n",
              "      <td>570.751764</td>\n",
              "      <td>500.0</td>\n",
              "      <td>500.0</td>\n",
              "      <td>1500.0</td>\n",
              "      <td>1625.0</td>\n",
              "      <td>2000.0</td>\n",
              "    </tr>\n",
              "  </tbody>\n",
              "</table>\n",
              "</div>\n",
              "    <div class=\"colab-df-buttons\">\n",
              "\n",
              "  <div class=\"colab-df-container\">\n",
              "    <button class=\"colab-df-convert\" onclick=\"convertToInteractive('df-b6ff7dfa-db3a-42a3-93e7-489f6f5bd65e')\"\n",
              "            title=\"Convert this dataframe to an interactive table.\"\n",
              "            style=\"display:none;\">\n",
              "\n",
              "  <svg xmlns=\"http://www.w3.org/2000/svg\" height=\"24px\" viewBox=\"0 -960 960 960\">\n",
              "    <path d=\"M120-120v-720h720v720H120Zm60-500h600v-160H180v160Zm220 220h160v-160H400v160Zm0 220h160v-160H400v160ZM180-400h160v-160H180v160Zm440 0h160v-160H620v160ZM180-180h160v-160H180v160Zm440 0h160v-160H620v160Z\"/>\n",
              "  </svg>\n",
              "    </button>\n",
              "\n",
              "  <style>\n",
              "    .colab-df-container {\n",
              "      display:flex;\n",
              "      gap: 12px;\n",
              "    }\n",
              "\n",
              "    .colab-df-convert {\n",
              "      background-color: #E8F0FE;\n",
              "      border: none;\n",
              "      border-radius: 50%;\n",
              "      cursor: pointer;\n",
              "      display: none;\n",
              "      fill: #1967D2;\n",
              "      height: 32px;\n",
              "      padding: 0 0 0 0;\n",
              "      width: 32px;\n",
              "    }\n",
              "\n",
              "    .colab-df-convert:hover {\n",
              "      background-color: #E2EBFA;\n",
              "      box-shadow: 0px 1px 2px rgba(60, 64, 67, 0.3), 0px 1px 3px 1px rgba(60, 64, 67, 0.15);\n",
              "      fill: #174EA6;\n",
              "    }\n",
              "\n",
              "    .colab-df-buttons div {\n",
              "      margin-bottom: 4px;\n",
              "    }\n",
              "\n",
              "    [theme=dark] .colab-df-convert {\n",
              "      background-color: #3B4455;\n",
              "      fill: #D2E3FC;\n",
              "    }\n",
              "\n",
              "    [theme=dark] .colab-df-convert:hover {\n",
              "      background-color: #434B5C;\n",
              "      box-shadow: 0px 1px 3px 1px rgba(0, 0, 0, 0.15);\n",
              "      filter: drop-shadow(0px 1px 2px rgba(0, 0, 0, 0.3));\n",
              "      fill: #FFFFFF;\n",
              "    }\n",
              "  </style>\n",
              "\n",
              "    <script>\n",
              "      const buttonEl =\n",
              "        document.querySelector('#df-b6ff7dfa-db3a-42a3-93e7-489f6f5bd65e button.colab-df-convert');\n",
              "      buttonEl.style.display =\n",
              "        google.colab.kernel.accessAllowed ? 'block' : 'none';\n",
              "\n",
              "      async function convertToInteractive(key) {\n",
              "        const element = document.querySelector('#df-b6ff7dfa-db3a-42a3-93e7-489f6f5bd65e');\n",
              "        const dataTable =\n",
              "          await google.colab.kernel.invokeFunction('convertToInteractive',\n",
              "                                                    [key], {});\n",
              "        if (!dataTable) return;\n",
              "\n",
              "        const docLinkHtml = 'Like what you see? Visit the ' +\n",
              "          '<a target=\"_blank\" href=https://colab.research.google.com/notebooks/data_table.ipynb>data table notebook</a>'\n",
              "          + ' to learn more about interactive tables.';\n",
              "        element.innerHTML = '';\n",
              "        dataTable['output_type'] = 'display_data';\n",
              "        await google.colab.output.renderOutput(dataTable, element);\n",
              "        const docLink = document.createElement('div');\n",
              "        docLink.innerHTML = docLinkHtml;\n",
              "        element.appendChild(docLink);\n",
              "      }\n",
              "    </script>\n",
              "  </div>\n",
              "\n",
              "\n",
              "<div id=\"df-1d99a046-c88d-4901-bf71-4a99c52e8bdc\">\n",
              "  <button class=\"colab-df-quickchart\" onclick=\"quickchart('df-1d99a046-c88d-4901-bf71-4a99c52e8bdc')\"\n",
              "            title=\"Suggest charts\"\n",
              "            style=\"display:none;\">\n",
              "\n",
              "<svg xmlns=\"http://www.w3.org/2000/svg\" height=\"24px\"viewBox=\"0 0 24 24\"\n",
              "     width=\"24px\">\n",
              "    <g>\n",
              "        <path d=\"M19 3H5c-1.1 0-2 .9-2 2v14c0 1.1.9 2 2 2h14c1.1 0 2-.9 2-2V5c0-1.1-.9-2-2-2zM9 17H7v-7h2v7zm4 0h-2V7h2v10zm4 0h-2v-4h2v4z\"/>\n",
              "    </g>\n",
              "</svg>\n",
              "  </button>\n",
              "\n",
              "<style>\n",
              "  .colab-df-quickchart {\n",
              "      --bg-color: #E8F0FE;\n",
              "      --fill-color: #1967D2;\n",
              "      --hover-bg-color: #E2EBFA;\n",
              "      --hover-fill-color: #174EA6;\n",
              "      --disabled-fill-color: #AAA;\n",
              "      --disabled-bg-color: #DDD;\n",
              "  }\n",
              "\n",
              "  [theme=dark] .colab-df-quickchart {\n",
              "      --bg-color: #3B4455;\n",
              "      --fill-color: #D2E3FC;\n",
              "      --hover-bg-color: #434B5C;\n",
              "      --hover-fill-color: #FFFFFF;\n",
              "      --disabled-bg-color: #3B4455;\n",
              "      --disabled-fill-color: #666;\n",
              "  }\n",
              "\n",
              "  .colab-df-quickchart {\n",
              "    background-color: var(--bg-color);\n",
              "    border: none;\n",
              "    border-radius: 50%;\n",
              "    cursor: pointer;\n",
              "    display: none;\n",
              "    fill: var(--fill-color);\n",
              "    height: 32px;\n",
              "    padding: 0;\n",
              "    width: 32px;\n",
              "  }\n",
              "\n",
              "  .colab-df-quickchart:hover {\n",
              "    background-color: var(--hover-bg-color);\n",
              "    box-shadow: 0 1px 2px rgba(60, 64, 67, 0.3), 0 1px 3px 1px rgba(60, 64, 67, 0.15);\n",
              "    fill: var(--button-hover-fill-color);\n",
              "  }\n",
              "\n",
              "  .colab-df-quickchart-complete:disabled,\n",
              "  .colab-df-quickchart-complete:disabled:hover {\n",
              "    background-color: var(--disabled-bg-color);\n",
              "    fill: var(--disabled-fill-color);\n",
              "    box-shadow: none;\n",
              "  }\n",
              "\n",
              "  .colab-df-spinner {\n",
              "    border: 2px solid var(--fill-color);\n",
              "    border-color: transparent;\n",
              "    border-bottom-color: var(--fill-color);\n",
              "    animation:\n",
              "      spin 1s steps(1) infinite;\n",
              "  }\n",
              "\n",
              "  @keyframes spin {\n",
              "    0% {\n",
              "      border-color: transparent;\n",
              "      border-bottom-color: var(--fill-color);\n",
              "      border-left-color: var(--fill-color);\n",
              "    }\n",
              "    20% {\n",
              "      border-color: transparent;\n",
              "      border-left-color: var(--fill-color);\n",
              "      border-top-color: var(--fill-color);\n",
              "    }\n",
              "    30% {\n",
              "      border-color: transparent;\n",
              "      border-left-color: var(--fill-color);\n",
              "      border-top-color: var(--fill-color);\n",
              "      border-right-color: var(--fill-color);\n",
              "    }\n",
              "    40% {\n",
              "      border-color: transparent;\n",
              "      border-right-color: var(--fill-color);\n",
              "      border-top-color: var(--fill-color);\n",
              "    }\n",
              "    60% {\n",
              "      border-color: transparent;\n",
              "      border-right-color: var(--fill-color);\n",
              "    }\n",
              "    80% {\n",
              "      border-color: transparent;\n",
              "      border-right-color: var(--fill-color);\n",
              "      border-bottom-color: var(--fill-color);\n",
              "    }\n",
              "    90% {\n",
              "      border-color: transparent;\n",
              "      border-bottom-color: var(--fill-color);\n",
              "    }\n",
              "  }\n",
              "</style>\n",
              "\n",
              "  <script>\n",
              "    async function quickchart(key) {\n",
              "      const quickchartButtonEl =\n",
              "        document.querySelector('#' + key + ' button');\n",
              "      quickchartButtonEl.disabled = true;  // To prevent multiple clicks.\n",
              "      quickchartButtonEl.classList.add('colab-df-spinner');\n",
              "      try {\n",
              "        const charts = await google.colab.kernel.invokeFunction(\n",
              "            'suggestCharts', [key], {});\n",
              "      } catch (error) {\n",
              "        console.error('Error during call to suggestCharts:', error);\n",
              "      }\n",
              "      quickchartButtonEl.classList.remove('colab-df-spinner');\n",
              "      quickchartButtonEl.classList.add('colab-df-quickchart-complete');\n",
              "    }\n",
              "    (() => {\n",
              "      let quickchartButtonEl =\n",
              "        document.querySelector('#df-1d99a046-c88d-4901-bf71-4a99c52e8bdc button');\n",
              "      quickchartButtonEl.style.display =\n",
              "        google.colab.kernel.accessAllowed ? 'block' : 'none';\n",
              "    })();\n",
              "  </script>\n",
              "</div>\n",
              "\n",
              "    </div>\n",
              "  </div>\n"
            ],
            "application/vnd.google.colaboratory.intrinsic+json": {
              "type": "dataframe",
              "summary": "{\n  \"name\": \"tem_df\",\n  \"rows\": 10,\n  \"fields\": [\n    {\n      \"column\": \"count\",\n      \"properties\": {\n        \"dtype\": \"number\",\n        \"std\": 8.73053390247253,\n        \"min\": 91.0,\n        \"max\": 115.0,\n        \"num_unique_values\": 9,\n        \"samples\": [\n          99.0,\n          95.0,\n          113.0\n        ],\n        \"semantic_type\": \"\",\n        \"description\": \"\"\n      }\n    },\n    {\n      \"column\": \"mean\",\n      \"properties\": {\n        \"dtype\": \"number\",\n        \"std\": 503.6837462027159,\n        \"min\": 61.05263157894737,\n        \"max\": 1250.0,\n        \"num_unique_values\": 10,\n        \"samples\": [\n          1237.3737373737374,\n          61.05263157894737,\n          122.56637168141593\n        ],\n        \"semantic_type\": \"\",\n        \"description\": \"\"\n      }\n    },\n    {\n      \"column\": \"std\",\n      \"properties\": {\n        \"dtype\": \"number\",\n        \"std\": 224.83229721780478,\n        \"min\": 28.165361115081485,\n        \"max\": 570.7517636920413,\n        \"num_unique_values\": 10,\n        \"samples\": [\n          554.8645465494458,\n          28.179654808545457,\n          57.47326647267572\n        ],\n        \"semantic_type\": \"\",\n        \"description\": \"\"\n      }\n    },\n    {\n      \"column\": \"min\",\n      \"properties\": {\n        \"dtype\": \"number\",\n        \"std\": 200.12218489934816,\n        \"min\": 25.0,\n        \"max\": 500.0,\n        \"num_unique_values\": 5,\n        \"samples\": [\n          30.0,\n          500.0,\n          50.0\n        ],\n        \"semantic_type\": \"\",\n        \"description\": \"\"\n      }\n    },\n    {\n      \"column\": \"25%\",\n      \"properties\": {\n        \"dtype\": \"number\",\n        \"std\": 347.9632204382782,\n        \"min\": 30.0,\n        \"max\": 1000.0,\n        \"num_unique_values\": 7,\n        \"samples\": [\n          50.0,\n          37.5,\n          1000.0\n        ],\n        \"semantic_type\": \"\",\n        \"description\": \"\"\n      }\n    },\n    {\n      \"column\": \"50%\",\n      \"properties\": {\n        \"dtype\": \"number\",\n        \"std\": 540.2779634389855,\n        \"min\": 50.0,\n        \"max\": 1500.0,\n        \"num_unique_values\": 8,\n        \"samples\": [\n          75.0,\n          900.0,\n          50.0\n        ],\n        \"semantic_type\": \"\",\n        \"description\": \"\"\n      }\n    },\n    {\n      \"column\": \"75%\",\n      \"properties\": {\n        \"dtype\": \"number\",\n        \"std\": 660.3808349901004,\n        \"min\": 87.5,\n        \"max\": 1625.0,\n        \"num_unique_values\": 7,\n        \"samples\": [\n          100.0,\n          87.5,\n          1500.0\n        ],\n        \"semantic_type\": \"\",\n        \"description\": \"\"\n      }\n    },\n    {\n      \"column\": \"max\",\n      \"properties\": {\n        \"dtype\": \"number\",\n        \"std\": 800.4887395973926,\n        \"min\": 100.0,\n        \"max\": 2000.0,\n        \"num_unique_values\": 5,\n        \"samples\": [\n          120.0,\n          2000.0,\n          200.0\n        ],\n        \"semantic_type\": \"\",\n        \"description\": \"\"\n      }\n    }\n  ]\n}"
            }
          },
          "metadata": {},
          "execution_count": 46
        }
      ]
    },
    {
      "cell_type": "markdown",
      "source": [
        "# Time Series Analysis"
      ],
      "metadata": {
        "id": "Z7I2NNiUt4c5"
      }
    },
    {
      "cell_type": "markdown",
      "source": [
        "- The quarterly total amounts data from January 2023 to January 2024 exhibit fluctuations with varying values each month. There is a mix of increases and decreases in total amounts over the months, indicating some level of volatility. Notable spikes are observed in February 2023 and January 2024, suggesting potential outliers or significant events during those months. The data shows a general trend of fluctuation without a clear, consistent pattern, indicating potential irregularity in the underlying factors affecting the total amounts. Further analysis could help identify the drivers behind the observed fluctuations and spikes, providing insights for forecasting future total amounts. In conclusion, the data presents a mix of trends, fluctuations, and spikes, highlighting the need for deeper analysis to understand the dynamics influencing the total amounts over the months."
      ],
      "metadata": {
        "id": "Ys5y0w8Xt4c6"
      }
    },
    {
      "source": [
        "# average montly sales\n",
        "# Convert the 'date' column to datetime if it's not already\n",
        "tem_df['date'] = pd.to_datetime(tem_df['date'])\n",
        "\n",
        "# Set the 'date' column as the index\n",
        "tem_df = tem_df.set_index('date')\n",
        "\n",
        "monthly_window = tem_df['total_amount'].resample('M').mean()\n",
        "monthly_window.plot()"
      ],
      "cell_type": "code",
      "metadata": {
        "colab": {
          "base_uri": "https://localhost:8080/",
          "height": 483
        },
        "id": "TXAj0Y0eyPJa",
        "outputId": "7c4e527e-d6d1-431a-b4bc-4eb33c441dc5"
      },
      "execution_count": 50,
      "outputs": [
        {
          "output_type": "execute_result",
          "data": {
            "text/plain": [
              "<Axes: xlabel='date'>"
            ]
          },
          "metadata": {},
          "execution_count": 50
        },
        {
          "output_type": "display_data",
          "data": {
            "text/plain": [
              "<Figure size 640x480 with 1 Axes>"
            ],
            "image/png": "[encoded data removed]"
          },
          "metadata": {}
        }
      ]
    },
    {
      "cell_type": "markdown",
      "source": [
        "- The quarterly total amounts data from March 2023 to March 2024 show fluctuations with an overall increasing trend. There is variability in the total amounts across the quarters, with a notable spike in the last quarter. The data suggests potential seasonal patterns or cyclical behavior influencing the total amounts each quarter. A significant increase is observed in March 2024, indicating a potential outlier or exceptional event. This spike could be further explored to understand the underlying factors driving this sudden rise. The data presents an opportunity for forecasting future total amounts, especially considering the observed trends and fluctuations. In conclusion, the data reveals growth, seasonal variations, and a notable spike, emphasizing the need for further analysis to uncover the drivers behind these patterns."
      ],
      "metadata": {
        "id": "nVI8xEzTt4c6"
      }
    },
    {
      "cell_type": "code",
      "source": [
        "\n",
        "# average quarterly sales\n",
        "quarterly_window = tem_df['total_amount'].resample('Q').mean()\n",
        "quarterly_window.plot()"
      ],
      "metadata": {
        "execution": {
          "iopub.status.busy": "2024-03-05T15:17:43.652192Z",
          "iopub.execute_input": "2024-03-05T15:17:43.653661Z",
          "iopub.status.idle": "2024-03-05T15:17:43.951318Z",
          "shell.execute_reply.started": "2024-03-05T15:17:43.653609Z",
          "shell.execute_reply": "2024-03-05T15:17:43.949979Z"
        },
        "trusted": true,
        "id": "-f2yarkit4c6",
        "colab": {
          "base_uri": "https://localhost:8080/",
          "height": 483
        },
        "outputId": "073c1a8b-81d7-4bce-a15a-26d74dbbca75"
      },
      "execution_count": 52,
      "outputs": [
        {
          "output_type": "execute_result",
          "data": {
            "text/plain": [
              "<Axes: xlabel='date'>"
            ]
          },
          "metadata": {},
          "execution_count": 52
        },
        {
          "output_type": "display_data",
          "data": {
            "text/plain": [
              "<Figure size 640x480 with 1 Axes>"
            ],
            "image/png": "[encoded data removed]"
          },
          "metadata": {}
        }
      ]
    }
  ]
}